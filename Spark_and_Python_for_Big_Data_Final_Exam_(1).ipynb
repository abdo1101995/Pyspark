{
  "cells": [
    {
      "cell_type": "markdown",
      "id": "abbf1e33",
      "metadata": {
        "id": "abbf1e33"
      },
      "source": [
        "##### **Good luck with taking your exam. Keep working and make your dreams all come true. Seeing the results of all of your hard work will make this struggle worth it. We’re all thinking of you.** \n",
        "<b><font color='blue'>AI-PRO Spark Team ITI</font></b>"
      ]
    },
    {
      "cell_type": "markdown",
      "id": "8326ba88",
      "metadata": {
        "id": "8326ba88"
      },
      "source": [
        "## Objective:\n",
        "- The objective from this project is to create a <b>Logistic Regression Classifier</b> to predict the <b>Stroke Condition</b>.\n",
        "- <b>Stoke</b> is a condition in which either the blood flow to the brain stops or blood flow is excessive.\n",
        "- It is required to obtain <b>ROC > 0.65</b>."
      ]
    },
    {
      "cell_type": "markdown",
      "id": "0eb78c16",
      "metadata": {
        "id": "0eb78c16"
      },
      "source": [
        "### Data:\n",
        "- Data is provided in csv format in a file named <b>healthcare-dataset-stroke-data.csv</b>"
      ]
    },
    {
      "cell_type": "markdown",
      "id": "7c842b79",
      "metadata": {
        "id": "7c842b79"
      },
      "source": [
        "### Column names and data types are as follow:\n",
        "- id, integer.\n",
        "- gender, string.\n",
        "- age, double.\n",
        "- hypertension, integer.\n",
        "- heart_disease, integer.\n",
        "- ever_married, string.\n",
        "- work_type, string.\n",
        "- Residence_type, string.\n",
        "- avg_glucose_level, double.\n",
        "- bmi, double.\n",
        "- smoking_status, string.\n",
        "- stroke, integer <b>(Target Label)</b>.\n",
        "If the person has stroke the stroke label value is <b>\"1\"</b> otherwise <b>\"0\"</b>."
      ]
    },
    {
      "cell_type": "markdown",
      "id": "6971f788",
      "metadata": {
        "id": "6971f788"
      },
      "source": [
        "## To perform this task follow the following guiding steps:"
      ]
    },
    {
      "cell_type": "code",
      "source": [
        "pip install pyspark"
      ],
      "metadata": {
        "id": "Yia6DamdwKTO",
        "outputId": "07f9d519-5a90-44b9-ce39-57f61e2e1ec4",
        "colab": {
          "base_uri": "https://localhost:8080/"
        }
      },
      "id": "Yia6DamdwKTO",
      "execution_count": null,
      "outputs": [
        {
          "output_type": "stream",
          "name": "stdout",
          "text": [
            "Looking in indexes: https://pypi.org/simple, https://us-python.pkg.dev/colab-wheels/public/simple/\n",
            "Collecting pyspark\n",
            "  Downloading pyspark-3.3.0.tar.gz (281.3 MB)\n",
            "\u001b[K     |████████████████████████████████| 281.3 MB 44 kB/s \n",
            "\u001b[?25hCollecting py4j==0.10.9.5\n",
            "  Downloading py4j-0.10.9.5-py2.py3-none-any.whl (199 kB)\n",
            "\u001b[K     |████████████████████████████████| 199 kB 49.2 MB/s \n",
            "\u001b[?25hBuilding wheels for collected packages: pyspark\n",
            "  Building wheel for pyspark (setup.py) ... \u001b[?25l\u001b[?25hdone\n",
            "  Created wheel for pyspark: filename=pyspark-3.3.0-py2.py3-none-any.whl size=281764026 sha256=747549d850b870ca32c4cc1c9216b96b372635f6093e20d3822e18e28216b365\n",
            "  Stored in directory: /root/.cache/pip/wheels/7a/8e/1b/f73a52650d2e5f337708d9f6a1750d451a7349a867f928b885\n",
            "Successfully built pyspark\n",
            "Installing collected packages: py4j, pyspark\n",
            "Successfully installed py4j-0.10.9.5 pyspark-3.3.0\n"
          ]
        }
      ]
    },
    {
      "cell_type": "markdown",
      "id": "e31bc851",
      "metadata": {
        "id": "e31bc851"
      },
      "source": [
        "### Create a spark session and import the required libraries"
      ]
    },
    {
      "cell_type": "code",
      "execution_count": null,
      "id": "ab3ba311",
      "metadata": {
        "id": "ab3ba311"
      },
      "outputs": [],
      "source": [
        "from pyspark.sql import SparkSession"
      ]
    },
    {
      "cell_type": "code",
      "source": [
        "spark=SparkSession.builder.appName(\"\").getOrCreate()"
      ],
      "metadata": {
        "id": "aLAyR_7lwiRk"
      },
      "id": "aLAyR_7lwiRk",
      "execution_count": null,
      "outputs": []
    },
    {
      "cell_type": "code",
      "source": [
        "df=spark.read.csv('/content/healthcare-dataset-stroke-data - healthcare-dataset-stroke-data (1).csv',header=True,inferSchema=True)"
      ],
      "metadata": {
        "id": "1aWidCYtwt_k"
      },
      "id": "1aWidCYtwt_k",
      "execution_count": null,
      "outputs": []
    },
    {
      "cell_type": "code",
      "source": [
        "df.printSchema()"
      ],
      "metadata": {
        "id": "z_5I6QQ2w58E",
        "outputId": "83b1190e-cb0e-406e-bef8-85fff32f99ed",
        "colab": {
          "base_uri": "https://localhost:8080/"
        }
      },
      "id": "z_5I6QQ2w58E",
      "execution_count": null,
      "outputs": [
        {
          "output_type": "stream",
          "name": "stdout",
          "text": [
            "root\n",
            " |-- id: integer (nullable = true)\n",
            " |-- gender: string (nullable = true)\n",
            " |-- age: double (nullable = true)\n",
            " |-- hypertension: integer (nullable = true)\n",
            " |-- heart_disease: integer (nullable = true)\n",
            " |-- ever_married: string (nullable = true)\n",
            " |-- work_type: string (nullable = true)\n",
            " |-- Residence_type: string (nullable = true)\n",
            " |-- avg_glucose_level: double (nullable = true)\n",
            " |-- bmi: string (nullable = true)\n",
            " |-- smoking_status: string (nullable = true)\n",
            " |-- stroke: integer (nullable = true)\n",
            "\n"
          ]
        }
      ]
    },
    {
      "cell_type": "code",
      "source": [
        "from pyspark.sql.types import *"
      ],
      "metadata": {
        "id": "brT_kOuqxBlj"
      },
      "id": "brT_kOuqxBlj",
      "execution_count": null,
      "outputs": []
    },
    {
      "cell_type": "markdown",
      "id": "843b8468",
      "metadata": {
        "id": "843b8468"
      },
      "source": [
        "### Create a data schema programatically"
      ]
    },
    {
      "cell_type": "code",
      "execution_count": null,
      "id": "8616fe16",
      "metadata": {
        "id": "8616fe16"
      },
      "outputs": [],
      "source": [
        "schema=StructType([\n",
        "    StructField(\"id\", IntegerType()),\n",
        "    StructField(\"gender\", StringType()),\n",
        "    StructField(\"age\", DoubleType()),\n",
        "    StructField(\"hypertension\", DoubleType()),\n",
        "    StructField(\"heart_disease\", DoubleType()),\n",
        "    StructField(\"ever_married\", StringType()),\n",
        "    StructField(\"work_type\", StringType()),\n",
        "    StructField(\"Residence_type\", StringType()),\n",
        "    StructField(\"avg_glucose_level\", DoubleType()),\n",
        "    StructField(\"bmi\", StringType()),\n",
        "    StructField(\"smoking_status\", StringType()),\n",
        "    StructField(\"stroke\", IntegerType())\n",
        "])"
      ]
    },
    {
      "cell_type": "markdown",
      "id": "2d00718f",
      "metadata": {
        "id": "2d00718f"
      },
      "source": [
        "### Read the data using the standard DataReader (Key,Value) pairs format\n",
        "- Provide the schema and any other required options."
      ]
    },
    {
      "cell_type": "code",
      "execution_count": null,
      "id": "61fcc4cd",
      "metadata": {
        "id": "61fcc4cd"
      },
      "outputs": [],
      "source": [
        "from csv import DictReader"
      ]
    },
    {
      "cell_type": "code",
      "source": [
        "df_list=[]\n",
        "integer_columns=['id','stroke']\n",
        "float_columns=['avg_glucose_level','age','hypertension','heart_disease']\n",
        "with open('/content/healthcare-dataset-stroke-data - healthcare-dataset-stroke-data (1).csv','r')  as dict_file:\n",
        "  dict_=DictReader(dict_file)\n",
        "  dict_reader=list(dict_)\n",
        "  for r in dict_reader:\n",
        "    for k,v in r.items():\n",
        "      if k in integer_columns:\n",
        "        r[k]=int(v)\n",
        "      elif k in float_columns:\n",
        "        r[k]=float(v)\n",
        "      else:\n",
        "        r[k]=v\n",
        "      df_list.append(r)\n"
      ],
      "metadata": {
        "id": "M2-o3ErjxRi6"
      },
      "id": "M2-o3ErjxRi6",
      "execution_count": null,
      "outputs": []
    },
    {
      "cell_type": "code",
      "source": [
        "df_dict=spark.createDataFrame(dict_reader,schema=schema)"
      ],
      "metadata": {
        "id": "OIhSeyHS0x4v"
      },
      "id": "OIhSeyHS0x4v",
      "execution_count": null,
      "outputs": []
    },
    {
      "cell_type": "code",
      "source": [
        "df_dict.show()"
      ],
      "metadata": {
        "id": "3HLJwYFG09gi",
        "outputId": "fcfb9a69-42fe-4b6f-9698-2bc84bc7ef35",
        "colab": {
          "base_uri": "https://localhost:8080/"
        }
      },
      "id": "3HLJwYFG09gi",
      "execution_count": null,
      "outputs": [
        {
          "output_type": "stream",
          "name": "stdout",
          "text": [
            "+-----+------+----+------------+-------------+------------+-------------+--------------+-----------------+----+---------------+------+\n",
            "|   id|gender| age|hypertension|heart_disease|ever_married|    work_type|Residence_type|avg_glucose_level| bmi| smoking_status|stroke|\n",
            "+-----+------+----+------------+-------------+------------+-------------+--------------+-----------------+----+---------------+------+\n",
            "| 9046|  Male|67.0|         0.0|          1.0|         Yes|      Private|         Urban|           228.69|36.6|formerly smoked|     1|\n",
            "|51676|Female|61.0|         0.0|          0.0|         Yes|Self-employed|         Rural|           202.21| N/A|   never smoked|     1|\n",
            "|31112|  Male|80.0|         0.0|          1.0|         Yes|      Private|         Rural|           105.92|32.5|   never smoked|     1|\n",
            "|60182|Female|49.0|         0.0|          0.0|         Yes|      Private|         Urban|           171.23|34.4|         smokes|     1|\n",
            "| 1665|Female|79.0|         1.0|          0.0|         Yes|Self-employed|         Rural|           174.12|  24|   never smoked|     1|\n",
            "|56669|  Male|81.0|         0.0|          0.0|         Yes|      Private|         Urban|           186.21|  29|formerly smoked|     1|\n",
            "|53882|  Male|74.0|         1.0|          1.0|         Yes|      Private|         Rural|            70.09|27.4|   never smoked|     1|\n",
            "|10434|Female|69.0|         0.0|          0.0|          No|      Private|         Urban|            94.39|22.8|   never smoked|     1|\n",
            "|27419|Female|59.0|         0.0|          0.0|         Yes|      Private|         Rural|            76.15| N/A|        Unknown|     1|\n",
            "|60491|Female|78.0|         0.0|          0.0|         Yes|      Private|         Urban|            58.57|24.2|        Unknown|     1|\n",
            "|12109|Female|81.0|         1.0|          0.0|         Yes|      Private|         Rural|            80.43|29.7|   never smoked|     1|\n",
            "|12095|Female|61.0|         0.0|          1.0|         Yes|     Govt_job|         Rural|           120.46|36.8|         smokes|     1|\n",
            "|12175|Female|54.0|         0.0|          0.0|         Yes|      Private|         Urban|           104.51|27.3|         smokes|     1|\n",
            "| 8213|  Male|78.0|         0.0|          1.0|         Yes|      Private|         Urban|           219.84| N/A|        Unknown|     1|\n",
            "| 5317|Female|79.0|         0.0|          1.0|         Yes|      Private|         Urban|           214.09|28.2|   never smoked|     1|\n",
            "|58202|Female|50.0|         1.0|          0.0|         Yes|Self-employed|         Rural|           167.41|30.9|   never smoked|     1|\n",
            "|56112|  Male|64.0|         0.0|          1.0|         Yes|      Private|         Urban|           191.61|37.5|         smokes|     1|\n",
            "|34120|  Male|75.0|         1.0|          0.0|         Yes|      Private|         Urban|           221.29|25.8|         smokes|     1|\n",
            "|27458|Female|60.0|         0.0|          0.0|          No|      Private|         Urban|            89.22|37.8|   never smoked|     1|\n",
            "|25226|  Male|57.0|         0.0|          1.0|          No|     Govt_job|         Urban|           217.08| N/A|        Unknown|     1|\n",
            "+-----+------+----+------------+-------------+------------+-------------+--------------+-----------------+----+---------------+------+\n",
            "only showing top 20 rows\n",
            "\n"
          ]
        }
      ]
    },
    {
      "cell_type": "code",
      "source": [
        "df_dict.printSchema()"
      ],
      "metadata": {
        "id": "IoUYuDxI1qrN",
        "outputId": "6d98ee0f-f270-4c43-a927-956281ae1733",
        "colab": {
          "base_uri": "https://localhost:8080/"
        }
      },
      "id": "IoUYuDxI1qrN",
      "execution_count": null,
      "outputs": [
        {
          "output_type": "stream",
          "name": "stdout",
          "text": [
            "root\n",
            " |-- id: integer (nullable = true)\n",
            " |-- gender: string (nullable = true)\n",
            " |-- age: double (nullable = true)\n",
            " |-- hypertension: double (nullable = true)\n",
            " |-- heart_disease: double (nullable = true)\n",
            " |-- ever_married: string (nullable = true)\n",
            " |-- work_type: string (nullable = true)\n",
            " |-- Residence_type: string (nullable = true)\n",
            " |-- avg_glucose_level: double (nullable = true)\n",
            " |-- bmi: string (nullable = true)\n",
            " |-- smoking_status: string (nullable = true)\n",
            " |-- stroke: integer (nullable = true)\n",
            "\n"
          ]
        }
      ]
    },
    {
      "cell_type": "markdown",
      "id": "974bc193",
      "metadata": {
        "id": "974bc193"
      },
      "source": [
        "### Explore the data \n",
        "#### You have to do the following:\n",
        "- Print the Schema.\n",
        "- Show the first 10 rows from the data.\n",
        "- Explore null values and show how many null values in each column.\n",
        "- Plot a count plot for the target label and <b>notice the graph</b>.\n",
        "- Perform any additional EDA you find useful."
      ]
    },
    {
      "cell_type": "code",
      "execution_count": null,
      "id": "353b6f34",
      "metadata": {
        "id": "353b6f34",
        "outputId": "b53edb26-4484-4f5c-a5ea-f805b993c9e5",
        "colab": {
          "base_uri": "https://localhost:8080/"
        }
      },
      "outputs": [
        {
          "output_type": "stream",
          "name": "stdout",
          "text": [
            "root\n",
            " |-- id: integer (nullable = true)\n",
            " |-- gender: string (nullable = true)\n",
            " |-- age: double (nullable = true)\n",
            " |-- hypertension: integer (nullable = true)\n",
            " |-- heart_disease: integer (nullable = true)\n",
            " |-- ever_married: string (nullable = true)\n",
            " |-- work_type: string (nullable = true)\n",
            " |-- Residence_type: string (nullable = true)\n",
            " |-- avg_glucose_level: double (nullable = true)\n",
            " |-- bmi: string (nullable = true)\n",
            " |-- smoking_status: string (nullable = true)\n",
            " |-- stroke: integer (nullable = true)\n",
            "\n"
          ]
        }
      ],
      "source": [
        "df.printSchema()"
      ]
    },
    {
      "cell_type": "code",
      "execution_count": null,
      "id": "6fb198f0",
      "metadata": {
        "id": "6fb198f0",
        "outputId": "d4d0206c-52a6-48b2-c6d2-b195e4963d5b",
        "colab": {
          "base_uri": "https://localhost:8080/"
        }
      },
      "outputs": [
        {
          "output_type": "stream",
          "name": "stdout",
          "text": [
            "+-----+------+----+------------+-------------+------------+-------------+--------------+-----------------+----+---------------+------+\n",
            "|   id|gender| age|hypertension|heart_disease|ever_married|    work_type|Residence_type|avg_glucose_level| bmi| smoking_status|stroke|\n",
            "+-----+------+----+------------+-------------+------------+-------------+--------------+-----------------+----+---------------+------+\n",
            "| 9046|  Male|67.0|           0|            1|         Yes|      Private|         Urban|           228.69|36.6|formerly smoked|     1|\n",
            "|51676|Female|61.0|           0|            0|         Yes|Self-employed|         Rural|           202.21| N/A|   never smoked|     1|\n",
            "|31112|  Male|80.0|           0|            1|         Yes|      Private|         Rural|           105.92|32.5|   never smoked|     1|\n",
            "|60182|Female|49.0|           0|            0|         Yes|      Private|         Urban|           171.23|34.4|         smokes|     1|\n",
            "| 1665|Female|79.0|           1|            0|         Yes|Self-employed|         Rural|           174.12|  24|   never smoked|     1|\n",
            "|56669|  Male|81.0|           0|            0|         Yes|      Private|         Urban|           186.21|  29|formerly smoked|     1|\n",
            "|53882|  Male|74.0|           1|            1|         Yes|      Private|         Rural|            70.09|27.4|   never smoked|     1|\n",
            "|10434|Female|69.0|           0|            0|          No|      Private|         Urban|            94.39|22.8|   never smoked|     1|\n",
            "|27419|Female|59.0|           0|            0|         Yes|      Private|         Rural|            76.15| N/A|        Unknown|     1|\n",
            "|60491|Female|78.0|           0|            0|         Yes|      Private|         Urban|            58.57|24.2|        Unknown|     1|\n",
            "+-----+------+----+------------+-------------+------------+-------------+--------------+-----------------+----+---------------+------+\n",
            "only showing top 10 rows\n",
            "\n"
          ]
        }
      ],
      "source": [
        "df.show(10)"
      ]
    },
    {
      "cell_type": "code",
      "source": [
        "from pyspark.sql.functions import *"
      ],
      "metadata": {
        "id": "k5g1aBoZ1_oN"
      },
      "id": "k5g1aBoZ1_oN",
      "execution_count": null,
      "outputs": []
    },
    {
      "cell_type": "code",
      "source": [
        "df.select([count(when(isnan(c) | col(c).isNull(), c)).alias(c) for c in df.columns]).show()"
      ],
      "metadata": {
        "id": "oI9FsORT1yu1",
        "outputId": "1ccf9c40-48c0-463e-ccf4-c3bd4533f5e4",
        "colab": {
          "base_uri": "https://localhost:8080/"
        }
      },
      "id": "oI9FsORT1yu1",
      "execution_count": null,
      "outputs": [
        {
          "output_type": "stream",
          "name": "stdout",
          "text": [
            "+---+------+---+------------+-------------+------------+---------+--------------+-----------------+---+--------------+------+\n",
            "| id|gender|age|hypertension|heart_disease|ever_married|work_type|Residence_type|avg_glucose_level|bmi|smoking_status|stroke|\n",
            "+---+------+---+------------+-------------+------------+---------+--------------+-----------------+---+--------------+------+\n",
            "|  0|     0|  0|           0|            0|           0|        0|             0|                0|  0|             0|     0|\n",
            "+---+------+---+------------+-------------+------------+---------+--------------+-----------------+---+--------------+------+\n",
            "\n"
          ]
        }
      ]
    },
    {
      "cell_type": "code",
      "source": [
        "#I see null data recorded as N/A in bmi i will replace it by nan and drop data\n",
        "df = df.withColumn('bmi',when((col('bmi')=='N/A'),None).otherwise(col('bmi')))"
      ],
      "metadata": {
        "id": "yiLwuqxa2TeN"
      },
      "id": "yiLwuqxa2TeN",
      "execution_count": null,
      "outputs": []
    },
    {
      "cell_type": "code",
      "source": [
        "df_pandas=df.toPandas()"
      ],
      "metadata": {
        "id": "anTyKyVM2ur9"
      },
      "id": "anTyKyVM2ur9",
      "execution_count": null,
      "outputs": []
    },
    {
      "cell_type": "code",
      "source": [],
      "metadata": {
        "id": "pBdVBV5f20H8"
      },
      "id": "pBdVBV5f20H8",
      "execution_count": null,
      "outputs": []
    },
    {
      "cell_type": "code",
      "source": [
        "import seaborn as sns\n",
        "sns.countplot(x='stroke',data=df_pandas)"
      ],
      "metadata": {
        "id": "3bOdEbK2250F",
        "outputId": "dab12239-b3dd-4bc7-db30-3b9262a370b8",
        "colab": {
          "base_uri": "https://localhost:8080/",
          "height": 296
        }
      },
      "id": "3bOdEbK2250F",
      "execution_count": null,
      "outputs": [
        {
          "output_type": "execute_result",
          "data": {
            "text/plain": [
              "<matplotlib.axes._subplots.AxesSubplot at 0x7fb199008c10>"
            ]
          },
          "metadata": {},
          "execution_count": 19
        },
        {
          "output_type": "display_data",
          "data": {
            "text/plain": [
              "<Figure size 432x288 with 1 Axes>"
            ],
            "image/png": "[encoded data removed]"
          },
          "metadata": {
            "needs_background": "light"
          }
        }
      ]
    },
    {
      "cell_type": "code",
      "source": [
        "#the graph show that data bias to 0 (unbalanced)"
      ],
      "metadata": {
        "id": "0TUaBXYo3Jsk"
      },
      "id": "0TUaBXYo3Jsk",
      "execution_count": null,
      "outputs": []
    },
    {
      "cell_type": "code",
      "source": [
        "# over sampling to solve imbalanced"
      ],
      "metadata": {
        "id": "Gxfq7J1JGIpj"
      },
      "id": "Gxfq7J1JGIpj",
      "execution_count": null,
      "outputs": []
    },
    {
      "cell_type": "code",
      "source": [
        "major_df = df.filter(col(\"stroke\") == 0)\n",
        "minor_df = df.filter(col(\"stroke\") == 1)\n",
        "ratio = int(major_df.count()/minor_df.count())\n",
        "print(\"ratio: {}\".format(ratio))"
      ],
      "metadata": {
        "id": "ZfN7FCc9B2Ul",
        "outputId": "c9941e64-7edc-4833-bfa4-a74e24b93510",
        "colab": {
          "base_uri": "https://localhost:8080/"
        }
      },
      "id": "ZfN7FCc9B2Ul",
      "execution_count": null,
      "outputs": [
        {
          "output_type": "stream",
          "name": "stdout",
          "text": [
            "ratio: 19\n"
          ]
        }
      ]
    },
    {
      "cell_type": "code",
      "source": [
        "a = range(ratio)\n",
        "# duplicate the minority rows\n",
        "oversampled_df = minor_df.withColumn(\"dummy\", explode(array([lit(x) for x in a]))).drop('dummy')\n",
        "# combine both oversampled minority rows and previous majority rows combined_df = major_df.unionAll(oversampled_df)\n",
        "combined_df = major_df.unionAll(oversampled_df)\n",
        "combined_df.show()"
      ],
      "metadata": {
        "id": "GZ1qS7s_Bzo3",
        "outputId": "b4c001a8-c3c5-4b87-8830-7a9d28d4d1e4",
        "colab": {
          "base_uri": "https://localhost:8080/"
        }
      },
      "id": "GZ1qS7s_Bzo3",
      "execution_count": null,
      "outputs": [
        {
          "output_type": "stream",
          "name": "stdout",
          "text": [
            "+-----+------+----+------------+-------------+------------+-------------+--------------+-----------------+----+---------------+------+\n",
            "|   id|gender| age|hypertension|heart_disease|ever_married|    work_type|Residence_type|avg_glucose_level| bmi| smoking_status|stroke|\n",
            "+-----+------+----+------------+-------------+------------+-------------+--------------+-----------------+----+---------------+------+\n",
            "|30669|  Male| 3.0|           0|            0|          No|     children|         Rural|            95.12|  18|        Unknown|     0|\n",
            "|30468|  Male|58.0|           1|            0|         Yes|      Private|         Urban|            87.96|39.2|   never smoked|     0|\n",
            "|16523|Female| 8.0|           0|            0|          No|      Private|         Urban|           110.89|17.6|        Unknown|     0|\n",
            "|56543|Female|70.0|           0|            0|         Yes|      Private|         Rural|            69.04|35.9|formerly smoked|     0|\n",
            "|46136|  Male|14.0|           0|            0|          No| Never_worked|         Rural|           161.28|19.1|        Unknown|     0|\n",
            "|32257|Female|47.0|           0|            0|         Yes|      Private|         Urban|           210.95|50.1|        Unknown|     0|\n",
            "|52800|Female|52.0|           0|            0|         Yes|      Private|         Urban|            77.59|17.7|formerly smoked|     0|\n",
            "|41413|Female|75.0|           0|            1|         Yes|Self-employed|         Rural|           243.53|  27|   never smoked|     0|\n",
            "|15266|Female|32.0|           0|            0|         Yes|      Private|         Rural|            77.67|32.3|         smokes|     0|\n",
            "|28674|Female|74.0|           1|            0|         Yes|Self-employed|         Urban|           205.84|54.6|   never smoked|     0|\n",
            "|10460|Female|79.0|           0|            0|         Yes|     Govt_job|         Urban|            77.08|  35|        Unknown|     0|\n",
            "|64908|  Male|79.0|           0|            1|         Yes|      Private|         Urban|            57.08|  22|formerly smoked|     0|\n",
            "|63884|Female|37.0|           0|            0|         Yes|      Private|         Rural|           162.96|39.4|   never smoked|     0|\n",
            "|37893|Female|37.0|           0|            0|         Yes|      Private|         Rural|             73.5|26.1|formerly smoked|     0|\n",
            "|67855|Female|40.0|           0|            0|         Yes|      Private|         Rural|            95.04|42.4|   never smoked|     0|\n",
            "|25774|  Male|35.0|           0|            0|          No|      Private|         Rural|            85.37|  33|   never smoked|     0|\n",
            "|19584|Female|20.0|           0|            0|          No|      Private|         Urban|            84.62|19.7|         smokes|     0|\n",
            "|24447|Female|42.0|           0|            0|         Yes|      Private|         Rural|            82.67|22.5|   never smoked|     0|\n",
            "|49589|Female|44.0|           0|            0|         Yes|     Govt_job|         Urban|            57.33|24.6|         smokes|     0|\n",
            "|17986|Female|79.0|           0|            1|         Yes|Self-employed|         Urban|            67.84|25.2|         smokes|     0|\n",
            "+-----+------+----+------------+-------------+------------+-------------+--------------+-----------------+----+---------------+------+\n",
            "only showing top 20 rows\n",
            "\n"
          ]
        }
      ]
    },
    {
      "cell_type": "code",
      "source": [
        "df_p=combined_df.toPandas()"
      ],
      "metadata": {
        "id": "g8PgnMSQFdmb"
      },
      "id": "g8PgnMSQFdmb",
      "execution_count": null,
      "outputs": []
    },
    {
      "cell_type": "code",
      "source": [
        "df_p['stroke'].value_counts()"
      ],
      "metadata": {
        "id": "s462pMlVFj6V",
        "outputId": "f309821b-ef23-485f-f097-298feb0676db",
        "colab": {
          "base_uri": "https://localhost:8080/"
        }
      },
      "id": "s462pMlVFj6V",
      "execution_count": null,
      "outputs": [
        {
          "output_type": "execute_result",
          "data": {
            "text/plain": [
              "0    4861\n",
              "1    4731\n",
              "Name: stroke, dtype: int64"
            ]
          },
          "metadata": {},
          "execution_count": 25
        }
      ]
    },
    {
      "cell_type": "markdown",
      "id": "59b770cb",
      "metadata": {
        "id": "59b770cb"
      },
      "source": [
        "### Get the summary statistics of the age column\n",
        "- You will find the minimum age is about <b>0.08</b>.\n",
        "- Remove rows for the age below <b>2 years old</b>."
      ]
    },
    {
      "cell_type": "code",
      "execution_count": null,
      "id": "ed40fb11",
      "metadata": {
        "scrolled": false,
        "id": "ed40fb11",
        "outputId": "e0718291-c337-4e26-e4a7-8c51c40f3a86",
        "colab": {
          "base_uri": "https://localhost:8080/"
        }
      },
      "outputs": [
        {
          "output_type": "stream",
          "name": "stdout",
          "text": [
            "+--------+\n",
            "|min(age)|\n",
            "+--------+\n",
            "|    0.08|\n",
            "+--------+\n",
            "\n"
          ]
        }
      ],
      "source": [
        "combined_df.select('age').agg(min(col('age'))).show()\n"
      ]
    },
    {
      "cell_type": "code",
      "source": [
        "df_remove_age=combined_df.filter('age<2')\n"
      ],
      "metadata": {
        "id": "xi0B62M33dNF"
      },
      "id": "xi0B62M33dNF",
      "execution_count": null,
      "outputs": []
    },
    {
      "cell_type": "code",
      "execution_count": null,
      "id": "cc99c0be",
      "metadata": {
        "id": "cc99c0be",
        "outputId": "cfa3c647-8215-4727-9ec5-3e16f5155734",
        "colab": {
          "base_uri": "https://localhost:8080/"
        }
      },
      "outputs": [
        {
          "output_type": "stream",
          "name": "stdout",
          "text": [
            "+-----+------+----+------------+-------------+------------+---------+--------------+-----------------+----+--------------+------+\n",
            "|   id|gender| age|hypertension|heart_disease|ever_married|work_type|Residence_type|avg_glucose_level| bmi|smoking_status|stroke|\n",
            "+-----+------+----+------------+-------------+------------+---------+--------------+-----------------+----+--------------+------+\n",
            "| 7559|Female|0.64|           0|            0|          No| children|         Urban|            83.82|24.9|       Unknown|     0|\n",
            "|22706|Female|0.88|           0|            0|          No| children|         Rural|            88.11|15.5|       Unknown|     0|\n",
            "|45238|Female| 1.8|           0|            0|          No| children|         Urban|            58.26|16.5|       Unknown|     0|\n",
            "|61511|Female|0.32|           0|            0|          No| children|         Rural|            73.71|16.2|       Unknown|     0|\n",
            "|40639|Female|1.08|           0|            0|          No| children|         Rural|            60.53|17.5|       Unknown|     0|\n",
            "| 9906|Female| 1.8|           0|            0|          No| children|         Urban|           102.34|  17|       Unknown|     0|\n",
            "|53016|Female| 1.8|           0|            0|          No| children|         Urban|           130.61|14.4|       Unknown|     0|\n",
            "|49529|Female|1.16|           0|            0|          No| children|         Urban|            60.98|17.2|       Unknown|     0|\n",
            "|47876|  Male| 1.0|           0|            0|          No| children|         Rural|             89.3|21.4|       Unknown|     0|\n",
            "|41615|Female| 1.4|           0|            0|          No| children|         Rural|           126.18|18.1|       Unknown|     0|\n",
            "|17733|Female|1.72|           0|            0|          No| children|         Rural|           109.51|19.5|       Unknown|     0|\n",
            "|57372|  Male| 1.0|           0|            0|          No| children|         Rural|           123.21|15.1|       Unknown|     0|\n",
            "|54747|  Male|0.88|           0|            0|          No| children|         Rural|           157.57|19.2|       Unknown|     0|\n",
            "|60211|  Male| 1.4|           0|            0|          No| children|         Urban|            90.51|18.9|       Unknown|     0|\n",
            "|53279|  Male|0.24|           0|            0|          No| children|         Rural|           118.87|16.3|       Unknown|     0|\n",
            "|66772|Female|0.32|           0|            0|          No| children|         Rural|            55.86|  16|       Unknown|     0|\n",
            "|57854|  Male|1.64|           0|            0|          No| children|         Urban|             56.3|19.7|       Unknown|     0|\n",
            "|47848|  Male|1.56|           0|            0|          No| children|         Rural|            93.74|20.1|       Unknown|     0|\n",
            "|59734|  Male|1.72|           0|            0|          No| children|         Urban|            75.79|17.6|       Unknown|     0|\n",
            "|68908|Female|0.72|           0|            0|          No| children|         Urban|            66.36|  23|       Unknown|     0|\n",
            "+-----+------+----+------------+-------------+------------+---------+--------------+-----------------+----+--------------+------+\n",
            "only showing top 20 rows\n",
            "\n"
          ]
        }
      ],
      "source": [
        "df_remove_age.show()"
      ]
    },
    {
      "cell_type": "code",
      "source": [
        "combined_df.select([count(when(isnan(c) | col(c).isNull(), c)).alias(c) for c in df.columns]).show()"
      ],
      "metadata": {
        "id": "EePliCWs3zFb",
        "outputId": "efe8a81c-111d-4ec0-ea37-72cc1aa5bcaa",
        "colab": {
          "base_uri": "https://localhost:8080/"
        }
      },
      "id": "EePliCWs3zFb",
      "execution_count": null,
      "outputs": [
        {
          "output_type": "stream",
          "name": "stdout",
          "text": [
            "+---+------+---+------------+-------------+------------+---------+--------------+-----------------+---+--------------+------+\n",
            "| id|gender|age|hypertension|heart_disease|ever_married|work_type|Residence_type|avg_glucose_level|bmi|smoking_status|stroke|\n",
            "+---+------+---+------------+-------------+------------+---------+--------------+-----------------+---+--------------+------+\n",
            "|  0|     0|  0|           0|            0|           0|        0|             0|                0|921|             0|     0|\n",
            "+---+------+---+------------+-------------+------------+---------+--------------+-----------------+---+--------------+------+\n",
            "\n"
          ]
        }
      ]
    },
    {
      "cell_type": "markdown",
      "id": "bf8c9498",
      "metadata": {
        "id": "bf8c9498"
      },
      "source": [
        "### Working with gender & smoking_status columns:\n",
        "- Select and show the gender & smoking_status columns\n",
        "- Get the distinct values for each column."
      ]
    },
    {
      "cell_type": "code",
      "execution_count": null,
      "id": "925a5ecd",
      "metadata": {
        "id": "925a5ecd",
        "outputId": "daeaa854-a60c-42d2-e8ed-6edd79d3283f",
        "colab": {
          "base_uri": "https://localhost:8080/"
        }
      },
      "outputs": [
        {
          "output_type": "stream",
          "name": "stdout",
          "text": [
            "+------+---------------+\n",
            "|gender| smoking_status|\n",
            "+------+---------------+\n",
            "|  Male|        Unknown|\n",
            "|  Male|   never smoked|\n",
            "|Female|        Unknown|\n",
            "|Female|formerly smoked|\n",
            "|  Male|        Unknown|\n",
            "|Female|        Unknown|\n",
            "|Female|formerly smoked|\n",
            "|Female|   never smoked|\n",
            "|Female|         smokes|\n",
            "|Female|   never smoked|\n",
            "|Female|        Unknown|\n",
            "|  Male|formerly smoked|\n",
            "|Female|   never smoked|\n",
            "|Female|formerly smoked|\n",
            "|Female|   never smoked|\n",
            "|  Male|   never smoked|\n",
            "|Female|         smokes|\n",
            "|Female|   never smoked|\n",
            "|Female|         smokes|\n",
            "|Female|         smokes|\n",
            "+------+---------------+\n",
            "only showing top 20 rows\n",
            "\n"
          ]
        }
      ],
      "source": [
        "combined_df.select('gender','smoking_status').show()"
      ]
    },
    {
      "cell_type": "code",
      "execution_count": null,
      "id": "9dfe35a4",
      "metadata": {
        "id": "9dfe35a4",
        "outputId": "16976be1-18b6-4d65-9a06-db5f95c5d97e",
        "colab": {
          "base_uri": "https://localhost:8080/"
        }
      },
      "outputs": [
        {
          "output_type": "stream",
          "name": "stdout",
          "text": [
            "+------+\n",
            "|gender|\n",
            "+------+\n",
            "|Female|\n",
            "| Other|\n",
            "|  Male|\n",
            "+------+\n",
            "\n"
          ]
        }
      ],
      "source": [
        "combined_df.select('gender').distinct().show()"
      ]
    },
    {
      "cell_type": "code",
      "execution_count": null,
      "id": "b7bf6c7e",
      "metadata": {
        "id": "b7bf6c7e",
        "outputId": "9a9b694b-03cc-45c0-e1f9-869b5f7e6603",
        "colab": {
          "base_uri": "https://localhost:8080/"
        }
      },
      "outputs": [
        {
          "output_type": "stream",
          "name": "stdout",
          "text": [
            "+---------------+\n",
            "| smoking_status|\n",
            "+---------------+\n",
            "|         smokes|\n",
            "|        Unknown|\n",
            "|   never smoked|\n",
            "|formerly smoked|\n",
            "+---------------+\n",
            "\n"
          ]
        }
      ],
      "source": [
        "combined_df.select('smoking_status').distinct().show()"
      ]
    },
    {
      "cell_type": "markdown",
      "id": "850bdfe1",
      "metadata": {
        "id": "850bdfe1"
      },
      "source": [
        "#### Change the string values of the columns into numerical values as follow:\n",
        "1. Gender column:\n",
        "    * Male = 1 \n",
        "    * Female = 0 \n",
        "    * Other = 0 \n",
        "2. Smoking Status column:\n",
        "  * never smoked = 0\n",
        "  * Unknown = 0.5\n",
        "  * formerly smoked = 0.75\n",
        "  * smokes = 1.0\n"
      ]
    },
    {
      "cell_type": "code",
      "execution_count": null,
      "id": "355f2ef0",
      "metadata": {
        "id": "355f2ef0"
      },
      "outputs": [],
      "source": [
        "df=combined_df.withColumn('gender',when(col('gender')==\"Male\",1).\n",
        "                               when(col('gender')==\"Female\",0).\n",
        "                               otherwise(0))"
      ]
    },
    {
      "cell_type": "code",
      "source": [
        "df=df.withColumn('smoking_status',when(col('smoking_status')==\"never smoked\",0).\n",
        "                               when(col('smoking_status')==\"Unknown\",0.5).\n",
        "                               when(col('smoking_status')==\"formerly smoked\",0.75).\n",
        "                               otherwise(1.0))"
      ],
      "metadata": {
        "id": "teLlL3Sr4P1i"
      },
      "id": "teLlL3Sr4P1i",
      "execution_count": null,
      "outputs": []
    },
    {
      "cell_type": "markdown",
      "id": "3da38a31",
      "metadata": {
        "id": "3da38a31"
      },
      "source": [
        "#### Show the output DataFrame\n",
        "- Select and show the gender & smoking_status columns after value changing.\n",
        "- Print schema for the new dataframe."
      ]
    },
    {
      "cell_type": "code",
      "execution_count": null,
      "id": "7df0cf29",
      "metadata": {
        "id": "7df0cf29",
        "outputId": "f56d4b0d-6b59-49ac-9ad1-218dc9168cb3",
        "colab": {
          "base_uri": "https://localhost:8080/"
        }
      },
      "outputs": [
        {
          "output_type": "stream",
          "name": "stdout",
          "text": [
            "+------+--------------+\n",
            "|gender|smoking_status|\n",
            "+------+--------------+\n",
            "|     1|           0.5|\n",
            "|     1|           0.0|\n",
            "|     0|           0.5|\n",
            "|     0|          0.75|\n",
            "|     1|           0.5|\n",
            "+------+--------------+\n",
            "only showing top 5 rows\n",
            "\n"
          ]
        }
      ],
      "source": [
        "df.select('gender','smoking_status').show(5)"
      ]
    },
    {
      "cell_type": "code",
      "source": [
        "df.printSchema()"
      ],
      "metadata": {
        "id": "8L_11PPi4iQq",
        "outputId": "81a25e74-7e5b-40b7-81d0-76f111457688",
        "colab": {
          "base_uri": "https://localhost:8080/"
        }
      },
      "id": "8L_11PPi4iQq",
      "execution_count": null,
      "outputs": [
        {
          "output_type": "stream",
          "name": "stdout",
          "text": [
            "root\n",
            " |-- id: integer (nullable = true)\n",
            " |-- gender: integer (nullable = false)\n",
            " |-- age: double (nullable = true)\n",
            " |-- hypertension: integer (nullable = true)\n",
            " |-- heart_disease: integer (nullable = true)\n",
            " |-- ever_married: string (nullable = true)\n",
            " |-- work_type: string (nullable = true)\n",
            " |-- Residence_type: string (nullable = true)\n",
            " |-- avg_glucose_level: double (nullable = true)\n",
            " |-- bmi: string (nullable = true)\n",
            " |-- smoking_status: double (nullable = false)\n",
            " |-- stroke: integer (nullable = true)\n",
            "\n"
          ]
        }
      ]
    },
    {
      "cell_type": "code",
      "source": [],
      "metadata": {
        "id": "j0pUiU7NEyFj"
      },
      "id": "j0pUiU7NEyFj",
      "execution_count": null,
      "outputs": []
    },
    {
      "cell_type": "markdown",
      "id": "89ce3b77",
      "metadata": {
        "id": "89ce3b77"
      },
      "source": [
        "### Deal with null value according to your data analysis."
      ]
    },
    {
      "cell_type": "code",
      "execution_count": null,
      "id": "4d78cb87",
      "metadata": {
        "id": "4d78cb87"
      },
      "outputs": [],
      "source": [
        "df=df.na.drop()"
      ]
    },
    {
      "cell_type": "code",
      "source": [
        "df.select([count(when(isnan(c) | col(c).isNull(), c)).alias(c) for c in df.columns]).show()"
      ],
      "metadata": {
        "id": "GJILMy-44wIK",
        "outputId": "abb8d3e1-187b-4d8e-9478-542c9fa5edeb",
        "colab": {
          "base_uri": "https://localhost:8080/"
        }
      },
      "id": "GJILMy-44wIK",
      "execution_count": null,
      "outputs": [
        {
          "output_type": "stream",
          "name": "stdout",
          "text": [
            "+---+------+---+------------+-------------+------------+---------+--------------+-----------------+---+--------------+------+\n",
            "| id|gender|age|hypertension|heart_disease|ever_married|work_type|Residence_type|avg_glucose_level|bmi|smoking_status|stroke|\n",
            "+---+------+---+------------+-------------+------------+---------+--------------+-----------------+---+--------------+------+\n",
            "|  0|     0|  0|           0|            0|           0|        0|             0|                0|  0|             0|     0|\n",
            "+---+------+---+------------+-------------+------------+---------+--------------+-----------------+---+--------------+------+\n",
            "\n"
          ]
        }
      ]
    },
    {
      "cell_type": "markdown",
      "id": "053c429a",
      "metadata": {
        "id": "053c429a"
      },
      "source": [
        "### Split the data into training and test dataframes:\n",
        "- 80% training and 20% test.\n",
        "- seed = 42.\n",
        "- Save each dataframe as a parquet file"
      ]
    },
    {
      "cell_type": "code",
      "source": [],
      "metadata": {
        "id": "hvI6CWWUEvmW"
      },
      "id": "hvI6CWWUEvmW",
      "execution_count": null,
      "outputs": []
    },
    {
      "cell_type": "code",
      "execution_count": null,
      "id": "0236ea8b",
      "metadata": {
        "id": "0236ea8b"
      },
      "outputs": [],
      "source": [
        "training_data,testing_data = df.randomSplit([0.8,0.2],seed=42)"
      ]
    },
    {
      "cell_type": "code",
      "source": [
        "training_data.count()"
      ],
      "metadata": {
        "id": "MQEQR2abLmV0",
        "outputId": "24a9f077-4350-4719-fe4f-29dd5dd04591",
        "colab": {
          "base_uri": "https://localhost:8080/"
        }
      },
      "id": "MQEQR2abLmV0",
      "execution_count": null,
      "outputs": [
        {
          "output_type": "execute_result",
          "data": {
            "text/plain": [
              "6987"
            ]
          },
          "metadata": {},
          "execution_count": 40
        }
      ]
    },
    {
      "cell_type": "code",
      "source": [
        "df_pp=df.toPandas()\n",
        "df_pp['stroke'].value_counts()"
      ],
      "metadata": {
        "id": "Yz_gKfLxId9Z",
        "outputId": "6847ecaa-3dfd-4186-8362-48dac84abd4e",
        "colab": {
          "base_uri": "https://localhost:8080/"
        }
      },
      "id": "Yz_gKfLxId9Z",
      "execution_count": null,
      "outputs": [
        {
          "output_type": "execute_result",
          "data": {
            "text/plain": [
              "0    4700\n",
              "1    3971\n",
              "Name: stroke, dtype: int64"
            ]
          },
          "metadata": {},
          "execution_count": 42
        }
      ]
    },
    {
      "cell_type": "code",
      "source": [
        "training_data.write.parquet('train_project.parquet')\n"
      ],
      "metadata": {
        "id": "TztggxyY5DaI"
      },
      "id": "TztggxyY5DaI",
      "execution_count": null,
      "outputs": []
    },
    {
      "cell_type": "code",
      "source": [
        "testing_data.write.parquet('test_project.parquet')"
      ],
      "metadata": {
        "id": "WrKU4yBu5c8q"
      },
      "id": "WrKU4yBu5c8q",
      "execution_count": null,
      "outputs": []
    },
    {
      "cell_type": "markdown",
      "id": "78fa24da",
      "metadata": {
        "id": "78fa24da"
      },
      "source": [
        "### Read the saved Train and Test DataFrame:\n",
        "- Use the dataframes you read in the subsequent steps."
      ]
    },
    {
      "cell_type": "code",
      "execution_count": null,
      "id": "c3f5c1e3",
      "metadata": {
        "id": "c3f5c1e3",
        "outputId": "8917f7b4-9fb7-4833-d35b-8ece4a4cea6b",
        "colab": {
          "base_uri": "https://localhost:8080/"
        }
      },
      "outputs": [
        {
          "output_type": "stream",
          "name": "stdout",
          "text": [
            "+---+------+----+------------+-------------+------------+-------------+--------------+-----------------+----+--------------+------+\n",
            "| id|gender| age|hypertension|heart_disease|ever_married|    work_type|Residence_type|avg_glucose_level| bmi|smoking_status|stroke|\n",
            "+---+------+----+------------+-------------+------------+-------------+--------------+-----------------+----+--------------+------+\n",
            "| 77|     0|13.0|           0|            0|          No|     children|         Rural|            85.81|18.6|           0.5|     0|\n",
            "| 84|     1|55.0|           0|            0|         Yes|      Private|         Urban|            89.17|31.5|           0.0|     0|\n",
            "| 99|     0|31.0|           0|            0|          No|      Private|         Urban|           108.89|52.3|           0.5|     0|\n",
            "|129|     0|24.0|           0|            0|          No|      Private|         Urban|            97.55|26.2|           0.0|     0|\n",
            "|156|     0|33.0|           0|            0|         Yes|      Private|         Rural|            86.97|42.2|           0.0|     0|\n",
            "|187|     0|20.0|           0|            0|          No|      Private|         Rural|            84.07|27.6|           1.0|     0|\n",
            "|239|     1|59.0|           1|            1|         Yes|      Private|         Rural|           246.53|27.2|          0.75|     0|\n",
            "|242|     1| 4.0|           0|            0|          No|     children|         Urban|            98.56|17.5|           0.5|     0|\n",
            "|247|     1|31.0|           0|            0|          No|      Private|         Urban|             72.6|31.6|           0.0|     0|\n",
            "|259|     1|79.0|           0|            0|         Yes|      Private|         Urban|           198.79|24.9|           0.0|     0|\n",
            "|321|     0|79.0|           0|            0|          No|Self-employed|         Rural|            71.98|36.4|           0.0|     0|\n",
            "|338|     0|43.0|           0|            0|         Yes|      Private|         Rural|           110.32|28.4|           0.0|     0|\n",
            "|354|     0|65.0|           0|            0|         Yes|      Private|         Urban|            72.49|28.9|           1.0|     0|\n",
            "|355|     1| 8.0|           0|            0|          No|     children|         Rural|            96.43|25.7|           0.5|     0|\n",
            "|364|     0|58.0|           0|            0|         Yes|      Private|         Urban|           105.74|26.8|          0.75|     0|\n",
            "|394|     1|78.0|           1|            0|         Yes|Self-employed|         Rural|            75.19|27.6|           0.0|     0|\n",
            "|452|     1|48.0|           1|            0|         Yes|      Private|         Urban|           173.14|  37|           1.0|     0|\n",
            "|458|     0|37.0|           0|            0|         Yes|     Govt_job|         Urban|            72.09|24.1|           1.0|     0|\n",
            "|479|     0|59.0|           1|            0|         Yes|      Private|         Rural|            78.28|  31|          0.75|     0|\n",
            "|507|     0|28.0|           0|            0|         Yes|      Private|         Rural|            94.15|23.1|           1.0|     0|\n",
            "+---+------+----+------------+-------------+------------+-------------+--------------+-----------------+----+--------------+------+\n",
            "only showing top 20 rows\n",
            "\n"
          ]
        }
      ],
      "source": [
        "training1=spark.read.parquet('/content/train_project.parquet/part-00000-0ee216af-0cfa-45d0-a8a0-147860ca9459-c000.snappy.parquet')\n",
        "training2=spark.read.parquet('/content/train_project.parquet/part-00001-0ee216af-0cfa-45d0-a8a0-147860ca9459-c000.snappy.parquet')\n",
        "training=training1.unionAll(training2)\n",
        "training.show()"
      ]
    },
    {
      "cell_type": "code",
      "source": [
        "t=training.toPandas()\n",
        "t['stroke'].value_counts()"
      ],
      "metadata": {
        "id": "kcQxawbFEJ5Q",
        "outputId": "df80ed17-9e64-433a-a6c5-86696decc03d",
        "colab": {
          "base_uri": "https://localhost:8080/"
        }
      },
      "id": "kcQxawbFEJ5Q",
      "execution_count": null,
      "outputs": [
        {
          "output_type": "execute_result",
          "data": {
            "text/plain": [
              "0    3801\n",
              "1    3186\n",
              "Name: stroke, dtype: int64"
            ]
          },
          "metadata": {},
          "execution_count": 47
        }
      ]
    },
    {
      "cell_type": "code",
      "source": [],
      "metadata": {
        "id": "ZvcbnSr5EfiM"
      },
      "id": "ZvcbnSr5EfiM",
      "execution_count": null,
      "outputs": []
    },
    {
      "cell_type": "code",
      "source": [],
      "metadata": {
        "id": "jTDgk3kKEsn9"
      },
      "id": "jTDgk3kKEsn9",
      "execution_count": null,
      "outputs": []
    },
    {
      "cell_type": "code",
      "source": [
        "testing1=spark.read.parquet('/content/test_project.parquet/part-00000-826bc63a-2732-4c24-ae64-7d7e885ef6f0-c000.snappy.parquet')\n",
        "testing2=spark.read.parquet('/content/test_project.parquet/part-00001-826bc63a-2732-4c24-ae64-7d7e885ef6f0-c000.snappy.parquet')\n",
        "testing=testing1.unionAll(testing2)\n",
        "training.show()"
      ],
      "metadata": {
        "id": "X3qwUt6Z52qZ",
        "outputId": "70747bc7-1ed4-4ea4-ce1a-bbe9d724a48d",
        "colab": {
          "base_uri": "https://localhost:8080/"
        }
      },
      "id": "X3qwUt6Z52qZ",
      "execution_count": null,
      "outputs": [
        {
          "output_type": "stream",
          "name": "stdout",
          "text": [
            "+---+------+----+------------+-------------+------------+-------------+--------------+-----------------+----+--------------+------+\n",
            "| id|gender| age|hypertension|heart_disease|ever_married|    work_type|Residence_type|avg_glucose_level| bmi|smoking_status|stroke|\n",
            "+---+------+----+------------+-------------+------------+-------------+--------------+-----------------+----+--------------+------+\n",
            "| 77|     0|13.0|           0|            0|          No|     children|         Rural|            85.81|18.6|           0.5|     0|\n",
            "| 84|     1|55.0|           0|            0|         Yes|      Private|         Urban|            89.17|31.5|           0.0|     0|\n",
            "| 99|     0|31.0|           0|            0|          No|      Private|         Urban|           108.89|52.3|           0.5|     0|\n",
            "|129|     0|24.0|           0|            0|          No|      Private|         Urban|            97.55|26.2|           0.0|     0|\n",
            "|156|     0|33.0|           0|            0|         Yes|      Private|         Rural|            86.97|42.2|           0.0|     0|\n",
            "|187|     0|20.0|           0|            0|          No|      Private|         Rural|            84.07|27.6|           1.0|     0|\n",
            "|239|     1|59.0|           1|            1|         Yes|      Private|         Rural|           246.53|27.2|          0.75|     0|\n",
            "|242|     1| 4.0|           0|            0|          No|     children|         Urban|            98.56|17.5|           0.5|     0|\n",
            "|247|     1|31.0|           0|            0|          No|      Private|         Urban|             72.6|31.6|           0.0|     0|\n",
            "|259|     1|79.0|           0|            0|         Yes|      Private|         Urban|           198.79|24.9|           0.0|     0|\n",
            "|321|     0|79.0|           0|            0|          No|Self-employed|         Rural|            71.98|36.4|           0.0|     0|\n",
            "|338|     0|43.0|           0|            0|         Yes|      Private|         Rural|           110.32|28.4|           0.0|     0|\n",
            "|354|     0|65.0|           0|            0|         Yes|      Private|         Urban|            72.49|28.9|           1.0|     0|\n",
            "|355|     1| 8.0|           0|            0|          No|     children|         Rural|            96.43|25.7|           0.5|     0|\n",
            "|364|     0|58.0|           0|            0|         Yes|      Private|         Urban|           105.74|26.8|          0.75|     0|\n",
            "|394|     1|78.0|           1|            0|         Yes|Self-employed|         Rural|            75.19|27.6|           0.0|     0|\n",
            "|452|     1|48.0|           1|            0|         Yes|      Private|         Urban|           173.14|  37|           1.0|     0|\n",
            "|458|     0|37.0|           0|            0|         Yes|     Govt_job|         Urban|            72.09|24.1|           1.0|     0|\n",
            "|479|     0|59.0|           1|            0|         Yes|      Private|         Rural|            78.28|  31|          0.75|     0|\n",
            "|507|     0|28.0|           0|            0|         Yes|      Private|         Rural|            94.15|23.1|           1.0|     0|\n",
            "+---+------+----+------------+-------------+------------+-------------+--------------+-----------------+----+--------------+------+\n",
            "only showing top 20 rows\n",
            "\n"
          ]
        }
      ]
    },
    {
      "cell_type": "code",
      "source": [
        "te=testing.toPandas()\n",
        "te['stroke'].value_counts()"
      ],
      "metadata": {
        "id": "CjRdOm7iG4hJ",
        "outputId": "9fa91b96-8694-420d-9c1e-f443a9f78bcd",
        "colab": {
          "base_uri": "https://localhost:8080/"
        }
      },
      "id": "CjRdOm7iG4hJ",
      "execution_count": null,
      "outputs": [
        {
          "output_type": "execute_result",
          "data": {
            "text/plain": [
              "0    899\n",
              "1    785\n",
              "Name: stroke, dtype: int64"
            ]
          },
          "metadata": {},
          "execution_count": 49
        }
      ]
    },
    {
      "cell_type": "markdown",
      "id": "987b4b40",
      "metadata": {
        "id": "987b4b40"
      },
      "source": [
        "### Create the model:\n",
        "- Perform feature engineering steps.\n",
        "- Create the logistic regression classifier.\n",
        "- Build the pipeline model that uses all feature engineering steps and the model.\n",
        "- Train the pipeline model using the trainig dataset."
      ]
    },
    {
      "cell_type": "code",
      "source": [
        "df.printSchema()"
      ],
      "metadata": {
        "id": "F5ydessN7Vmh",
        "outputId": "45faeee2-dc83-452b-db13-2db58c7a6003",
        "colab": {
          "base_uri": "https://localhost:8080/"
        }
      },
      "id": "F5ydessN7Vmh",
      "execution_count": null,
      "outputs": [
        {
          "output_type": "stream",
          "name": "stdout",
          "text": [
            "root\n",
            " |-- id: integer (nullable = true)\n",
            " |-- gender: integer (nullable = false)\n",
            " |-- age: double (nullable = true)\n",
            " |-- hypertension: integer (nullable = true)\n",
            " |-- heart_disease: integer (nullable = true)\n",
            " |-- ever_married: string (nullable = true)\n",
            " |-- work_type: string (nullable = true)\n",
            " |-- Residence_type: string (nullable = true)\n",
            " |-- avg_glucose_level: double (nullable = true)\n",
            " |-- bmi: string (nullable = true)\n",
            " |-- smoking_status: double (nullable = false)\n",
            " |-- stroke: integer (nullable = true)\n",
            "\n"
          ]
        }
      ]
    },
    {
      "cell_type": "code",
      "source": [
        "df.dtypes"
      ],
      "metadata": {
        "id": "7etXjByb7yfW",
        "outputId": "892778ae-103f-4f4e-9278-4e94a4c33dff",
        "colab": {
          "base_uri": "https://localhost:8080/"
        }
      },
      "id": "7etXjByb7yfW",
      "execution_count": null,
      "outputs": [
        {
          "output_type": "execute_result",
          "data": {
            "text/plain": [
              "[('id', 'int'),\n",
              " ('gender', 'int'),\n",
              " ('age', 'double'),\n",
              " ('hypertension', 'int'),\n",
              " ('heart_disease', 'int'),\n",
              " ('ever_married', 'string'),\n",
              " ('work_type', 'string'),\n",
              " ('Residence_type', 'string'),\n",
              " ('avg_glucose_level', 'double'),\n",
              " ('bmi', 'string'),\n",
              " ('smoking_status', 'double'),\n",
              " ('stroke', 'int')]"
            ]
          },
          "metadata": {},
          "execution_count": 51
        }
      ]
    },
    {
      "cell_type": "code",
      "execution_count": null,
      "id": "3278e362",
      "metadata": {
        "id": "3278e362",
        "outputId": "5cc01f53-4268-4555-e3de-c7b127ed5e74",
        "colab": {
          "base_uri": "https://localhost:8080/"
        }
      },
      "outputs": [
        {
          "output_type": "stream",
          "name": "stdout",
          "text": [
            "['gender', 'age', 'hypertension', 'heart_disease', 'avg_glucose_level', 'smoking_status']\n",
            "['ever_married', 'work_type', 'Residence_type', 'bmi']\n"
          ]
        }
      ],
      "source": [
        "from pyspark.ml.feature import *\n",
        "cat_features=[k for (k,v) in training.dtypes if v=='string']\n",
        "number_features=[k  for (k,v) in training.dtypes if v in ('double','int')]\n",
        "number_features.remove('id')\n",
        "number_features.remove('stroke')\n",
        "print(number_features)\n",
        "print(cat_features)"
      ]
    },
    {
      "cell_type": "code",
      "source": [],
      "metadata": {
        "id": "Ynph9WOqCXgn"
      },
      "id": "Ynph9WOqCXgn",
      "execution_count": null,
      "outputs": []
    },
    {
      "cell_type": "code",
      "execution_count": null,
      "id": "4e41b352",
      "metadata": {
        "id": "4e41b352"
      },
      "outputs": [],
      "source": [
        "index_cols=[x+'_index' for x in cat_features]\n",
        "onhot_cols=[x+'oht' for x in cat_features]"
      ]
    },
    {
      "cell_type": "code",
      "execution_count": null,
      "id": "106453d7",
      "metadata": {
        "id": "106453d7"
      },
      "outputs": [],
      "source": [
        "string_indexer=StringIndexer(inputCols=cat_features,outputCols=index_cols,handleInvalid='skip')"
      ]
    },
    {
      "cell_type": "code",
      "source": [
        "onhot_features=OneHotEncoder(inputCols=index_cols,outputCols=onhot_cols)\n",
        "vec_assmp=number_features+onhot_cols"
      ],
      "metadata": {
        "id": "ET1xvEo-9zdU"
      },
      "id": "ET1xvEo-9zdU",
      "execution_count": null,
      "outputs": []
    },
    {
      "cell_type": "code",
      "source": [
        "vec_ASSem=VectorAssembler(inputCols=vec_assmp,outputCol='features')"
      ],
      "metadata": {
        "id": "Elu4kSZH-GZM"
      },
      "id": "Elu4kSZH-GZM",
      "execution_count": null,
      "outputs": []
    },
    {
      "cell_type": "markdown",
      "id": "a05c2677",
      "metadata": {
        "id": "a05c2677"
      },
      "source": [
        "### Perform predictions on tests dataframe:\n",
        "- Test the model using the test dataframe\n",
        "- Select and show the feature column.\n",
        "- Print the schema of the output dataframe.\n",
        "- Select and show both prediction and label columns.\n",
        "- Explore the results for the label column stroke=1. i.e. select both columns (prediction,stroke) for stroke=1.<b>notice the result.</b> \n",
        "- Count the predicted 1 and 0 values.<b>notice the result.</b>   "
      ]
    },
    {
      "cell_type": "code",
      "execution_count": null,
      "id": "d772bef6",
      "metadata": {
        "id": "d772bef6"
      },
      "outputs": [],
      "source": [
        "from pyspark.ml.classification import LogisticRegression\n",
        "from pyspark.ml import Pipeline"
      ]
    },
    {
      "cell_type": "code",
      "execution_count": null,
      "id": "3ea267eb",
      "metadata": {
        "id": "3ea267eb"
      },
      "outputs": [],
      "source": [
        "model=LogisticRegression(labelCol='stroke',featuresCol='features')"
      ]
    },
    {
      "cell_type": "code",
      "execution_count": null,
      "id": "480d892e",
      "metadata": {
        "scrolled": false,
        "id": "480d892e",
        "outputId": "45b3f246-e379-418f-fc46-6232d6def5d9",
        "colab": {
          "base_uri": "https://localhost:8080/"
        }
      },
      "outputs": [
        {
          "output_type": "stream",
          "name": "stdout",
          "text": [
            "+----+------+----+------------+-------------+------------+-------------+--------------+-----------------+----+--------------+------+------------------+---------------+--------------------+---------+---------------+-------------+-----------------+-----------------+--------------------+--------------------+--------------------+----------+\n",
            "|  id|gender| age|hypertension|heart_disease|ever_married|    work_type|Residence_type|avg_glucose_level| bmi|smoking_status|stroke|ever_married_index|work_type_index|Residence_type_index|bmi_index|ever_marriedoht| work_typeoht|Residence_typeoht|           bmioht|            features|       rawPrediction|         probability|prediction|\n",
            "+----+------+----+------------+-------------+------------+-------------+--------------+-----------------+----+--------------+------+------------------+---------------+--------------------+---------+---------------+-------------+-----------------+-----------------+--------------------+--------------------+--------------------+----------+\n",
            "|  91|     0|42.0|           0|            0|          No|      Private|         Urban|            98.53|18.5|           0.0|     0|               1.0|            0.0|                 0.0|    210.0|      (1,[],[])|(4,[0],[1.0])|    (1,[0],[1.0])|(405,[210],[1.0])|(417,[1,4,7,11,22...|[1263.16143857452...|           [1.0,0.0]|       0.0|\n",
            "| 163|     0|20.0|           0|            0|          No|      Private|         Rural|            94.67|28.8|           0.5|     0|               1.0|            0.0|                 1.0|     59.0|      (1,[],[])|(4,[0],[1.0])|        (1,[],[])| (405,[59],[1.0])|(417,[1,4,5,7,71]...|[4.93926943647431...|[0.99289107152854...|       0.0|\n",
            "| 205|     0|43.0|           0|            0|         Yes|      Private|         Rural|            88.23|37.6|           0.5|     0|               0.0|            0.0|                 1.0|    273.0|  (1,[0],[1.0])|(4,[0],[1.0])|        (1,[],[])|(405,[273],[1.0])|(417,[1,4,5,6,7,2...|[1188.31552903688...|           [1.0,0.0]|       0.0|\n",
            "| 315|     1|45.0|           0|            0|         Yes|      Private|         Rural|            65.42|39.7|           0.0|     0|               0.0|            0.0|                 1.0|    254.0|  (1,[0],[1.0])|(4,[0],[1.0])|        (1,[],[])|(405,[254],[1.0])|(417,[0,1,4,6,7,2...|[943.933718570862...|           [1.0,0.0]|       0.0|\n",
            "| 365|     0|44.0|           1|            0|         Yes|      Private|         Rural|            69.48|41.3|           0.0|     0|               0.0|            0.0|                 1.0|    262.0|  (1,[0],[1.0])|(4,[0],[1.0])|        (1,[],[])|(405,[262],[1.0])|(417,[1,2,4,6,7,2...|[1218.76668226997...|           [1.0,0.0]|       0.0|\n",
            "| 464|     1|46.0|           0|            0|         Yes|      Private|         Rural|            78.44|23.9|           0.0|     0|               0.0|            0.0|                 1.0|     32.0|  (1,[0],[1.0])|(4,[0],[1.0])|        (1,[],[])| (405,[32],[1.0])|(417,[0,1,4,6,7,4...|[1.58367938535036...|[0.82972497766180...|       0.0|\n",
            "| 559|     0|54.0|           0|            0|         Yes|      Private|         Urban|            81.44|31.5|          0.75|     0|               0.0|            0.0|                 0.0|     67.0|  (1,[0],[1.0])|(4,[0],[1.0])|    (1,[0],[1.0])| (405,[67],[1.0])|(417,[1,4,5,6,7,1...|[3.38189708212291...|[0.96713395906374...|       0.0|\n",
            "| 641|     1|52.0|           0|            0|         Yes|     Govt_job|         Rural|            87.26|40.1|           1.0|     0|               0.0|            2.0|                 1.0|    218.0|  (1,[0],[1.0])|(4,[2],[1.0])|        (1,[],[])|(405,[218],[1.0])|(417,[0,1,4,5,6,9...|[1037.86268835675...|           [1.0,0.0]|       0.0|\n",
            "| 768|     0|74.0|           0|            0|         Yes|Self-employed|         Urban|            68.18|27.3|          0.75|     0|               0.0|            1.0|                 0.0|      0.0|  (1,[0],[1.0])|(4,[1],[1.0])|    (1,[0],[1.0])|  (405,[0],[1.0])|(417,[1,4,5,6,8,1...|[-2.9224465905888...|[0.05105503718856...|       1.0|\n",
            "| 782|     0|32.0|           0|            0|          No|      Private|         Urban|            79.34|26.5|          0.75|     0|               1.0|            0.0|                 0.0|     63.0|      (1,[],[])|(4,[0],[1.0])|    (1,[0],[1.0])| (405,[63],[1.0])|(417,[1,4,5,7,11,...|[5.22857057843697...|[0.99466740579550...|       0.0|\n",
            "| 808|     0|16.0|           0|            0|          No|      Private|         Rural|            87.54|37.8|           0.0|     0|               1.0|            0.0|                 1.0|    109.0|      (1,[],[])|(4,[0],[1.0])|        (1,[],[])|(405,[109],[1.0])|(417,[1,4,7,121],...|[3.71524767457174...|[0.97622939066551...|       0.0|\n",
            "| 841|     1|34.0|           0|            0|         Yes|      Private|         Urban|            83.75|  37|           0.0|     0|               0.0|            0.0|                 0.0|    241.0|  (1,[0],[1.0])|(4,[0],[1.0])|    (1,[0],[1.0])|(405,[241],[1.0])|(417,[0,1,4,6,7,1...|[1058.78464212072...|           [1.0,0.0]|       0.0|\n",
            "| 875|     0|34.0|           0|            0|          No|      Private|         Urban|            67.66|22.4|           0.0|     0|               1.0|            0.0|                 0.0|     90.0|      (1,[],[])|(4,[0],[1.0])|    (1,[0],[1.0])| (405,[90],[1.0])|(417,[1,4,7,11,10...|[3.11081822963558...|[0.95733678729465...|       0.0|\n",
            "| 924|     0|60.0|           0|            0|         Yes|     Govt_job|         Urban|            80.86|  31|           1.0|     0|               0.0|            2.0|                 0.0|     25.0|  (1,[0],[1.0])|(4,[2],[1.0])|    (1,[0],[1.0])| (405,[25],[1.0])|(417,[1,4,5,6,9,1...|[-0.3419895351531...|[0.41532627628483...|       1.0|\n",
            "|1119|     1|47.0|           0|            1|         Yes|     Govt_job|         Urban|           101.81|28.4|           1.0|     0|               0.0|            2.0|                 0.0|      8.0|  (1,[0],[1.0])|(4,[2],[1.0])|    (1,[0],[1.0])|  (405,[8],[1.0])|(417,[0,1,3,4,5,6...|[-0.1885295424784...|[0.45300672368368...|       1.0|\n",
            "|1231|     0|62.0|           0|            0|         Yes|     Govt_job|         Rural|            73.44|23.4|           0.5|     0|               0.0|            2.0|                 1.0|     40.0|  (1,[0],[1.0])|(4,[2],[1.0])|        (1,[],[])| (405,[40],[1.0])|(417,[1,4,5,6,9,5...|[0.71526806701757...|[0.67156416334396...|       0.0|\n",
            "|1451|     0|17.0|           0|            0|          No|      Private|         Urban|            78.46|23.5|           0.5|     0|               1.0|            0.0|                 0.0|     72.0|      (1,[],[])|(4,[0],[1.0])|    (1,[0],[1.0])| (405,[72],[1.0])|(417,[1,4,5,7,11,...|[4.84023459224056...|[0.99215680270243...|       0.0|\n",
            "|2005|     1|78.0|           0|            1|         Yes|Self-employed|         Urban|           169.43|23.5|          0.75|     0|               0.0|            1.0|                 0.0|     72.0|  (1,[0],[1.0])|(4,[1],[1.0])|    (1,[0],[1.0])| (405,[72],[1.0])|(417,[0,1,3,4,5,6...|[-2.8025067167788...|[0.05718886786706...|       1.0|\n",
            "|2327|     0|25.0|           0|            0|          No|      Private|         Rural|            76.72|21.5|           0.5|     0|               1.0|            0.0|                 1.0|     23.0|      (1,[],[])|(4,[0],[1.0])|        (1,[],[])| (405,[23],[1.0])|(417,[1,4,5,7,35]...|[4.14143701820069...|[0.98434886630488...|       0.0|\n",
            "|2424|     1|60.0|           0|            0|         Yes|      Private|         Urban|            80.67|33.5|           0.5|     0|               0.0|            0.0|                 0.0|    187.0|  (1,[0],[1.0])|(4,[0],[1.0])|    (1,[0],[1.0])|(405,[187],[1.0])|(417,[0,1,4,5,6,7...|[1283.82615210286...|           [1.0,0.0]|       0.0|\n",
            "+----+------+----+------------+-------------+------------+-------------+--------------+-----------------+----+--------------+------+------------------+---------------+--------------------+---------+---------------+-------------+-----------------+-----------------+--------------------+--------------------+--------------------+----------+\n",
            "only showing top 20 rows\n",
            "\n"
          ]
        }
      ],
      "source": [
        "pipline = Pipeline(stages=[string_indexer,onhot_features,vec_ASSem,model])\n",
        "pipline_model=pipline.fit(training)\n",
        "prediction=pipline_model.transform(testing)\n",
        "prediction.show()"
      ]
    },
    {
      "cell_type": "markdown",
      "id": "daec120f",
      "metadata": {
        "id": "daec120f"
      },
      "source": [
        "### Evaluate the model performance\n",
        "- Use <b>BinaryClassificationEvaluator</b>. This will calculate the <b>ROC</b>.\n",
        "- Set the parameters as follow:\n",
        "    - <b>rawPredictionCol='prediction'</b> and <b>labelCol='stroke'</b>"
      ]
    },
    {
      "cell_type": "code",
      "execution_count": null,
      "id": "a7b5ad25",
      "metadata": {
        "id": "a7b5ad25"
      },
      "outputs": [],
      "source": [
        "from pyspark.ml.evaluation import BinaryClassificationEvaluator"
      ]
    },
    {
      "cell_type": "code",
      "execution_count": null,
      "id": "44d3a1e6",
      "metadata": {
        "id": "44d3a1e6"
      },
      "outputs": [],
      "source": [
        "evaluatorROC = BinaryClassificationEvaluator(rawPredictionCol='prediction'\n",
        "                                             ,labelCol='stroke')"
      ]
    },
    {
      "cell_type": "code",
      "execution_count": null,
      "id": "3adbe41f",
      "metadata": {
        "id": "3adbe41f",
        "outputId": "1463c9bc-5acc-4883-9a3c-6ff9b862843f",
        "colab": {
          "base_uri": "https://localhost:8080/"
        }
      },
      "outputs": [
        {
          "output_type": "execute_result",
          "data": {
            "text/plain": [
              "0.8904580673421466"
            ]
          },
          "metadata": {},
          "execution_count": 63
        }
      ],
      "source": [
        "evaluatorROC.evaluate(prediction)"
      ]
    },
    {
      "cell_type": "markdown",
      "id": "40206589",
      "metadata": {
        "id": "40206589"
      },
      "source": [
        "### Improve Model Performance\n",
        "- You may noticed that <b>the target label is imbalanced</b>.\n",
        "- LogisticRegression classifier has a special parameter <b>weightCol</b> to deal with imbalanced class.\n",
        "- In order to use this parameter you must have a <b>weightCol</b> in your training dataframe.\n",
        "- In order to create this column you will need to define a <b>UDF</b> and apply it to the target label column.\n",
        "- Create a LogisticRegression classifier with <b>weightCol</b> parameter.\n",
        "- Build and train a pipeline model with the new LogisticRegression.\n",
        "- Perform the prediction on the test dataframe. \n",
        "- Select and show both prediction and label columns.\n",
        "- Explore the results for the label column stroke=1. i.e. select both columns (prediction,stroke) for stroke=1.<b>notice the result.</b> \n",
        "- Count the predicted 1 and 0 values.<b>notice the result.</b>   \n",
        "- Evaluate the model performance exactly as in the previous step.\n",
        "### YOU SHOULD OBTAIN  ROC > 0.65\n",
        "<BR>\n",
        "<b><font color='red'>Note: feel free to deal with the imbalanced cluster with the above method or another. However, you can only use methods applied on SPARK DATAFRAME</font></b>"
      ]
    },
    {
      "cell_type": "code",
      "execution_count": null,
      "id": "03385adc",
      "metadata": {
        "id": "03385adc"
      },
      "outputs": [],
      "source": []
    },
    {
      "cell_type": "code",
      "execution_count": null,
      "id": "00e034e9",
      "metadata": {
        "id": "00e034e9"
      },
      "outputs": [],
      "source": []
    },
    {
      "cell_type": "code",
      "execution_count": null,
      "id": "66efa0c6",
      "metadata": {
        "id": "66efa0c6"
      },
      "outputs": [],
      "source": []
    },
    {
      "cell_type": "code",
      "execution_count": null,
      "id": "4e8c18b5",
      "metadata": {
        "id": "4e8c18b5"
      },
      "outputs": [],
      "source": [
        "evaluatorROC.evaluate(pred_W)"
      ]
    },
    {
      "cell_type": "markdown",
      "id": "e00e7b53",
      "metadata": {
        "id": "e00e7b53"
      },
      "source": [
        "# GOOD LUCK\n",
        "<b><font color='GREEN'>AI-PRO Spark Team ITI</font></b>"
      ]
    }
  ],
  "metadata": {
    "kernelspec": {
      "display_name": "Python 3 (ipykernel)",
      "language": "python",
      "name": "python3"
    },
    "language_info": {
      "codemirror_mode": {
        "name": "ipython",
        "version": 3
      },
      "file_extension": ".py",
      "mimetype": "text/x-python",
      "name": "python",
      "nbconvert_exporter": "python",
      "pygments_lexer": "ipython3",
      "version": "3.9.12"
    },
    "colab": {
      "provenance": []
    }
  },
  "nbformat": 4,
  "nbformat_minor": 5
}