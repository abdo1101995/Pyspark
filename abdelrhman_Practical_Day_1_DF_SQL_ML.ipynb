{
  "cells": [
    {
      "cell_type": "markdown",
      "id": "05f1e8db",
      "metadata": {
        "id": "05f1e8db"
      },
      "source": [
        "# **Labs 1 and 2 PySpark:**\n",
        "\n",
        "In these labs we will be using the \"[[NeurIPS 2020] Data Science for COVID-19 (DS4C)](https://www.kaggle.com/datasets/kimjihoo/coronavirusdataset?select=PatientInfo.csv)\" dataset, retrieved from [Kaggle](https://www.kaggle.com/) on 1/6/2022, for educational non commercial purpose, License\n",
        "[CC BY-NC-SA 4.0\n",
        "](https://creativecommons.org/licenses/by-nc-sa/4.0/)\n",
        "\n",
        "\n",
        "The csv file that we will be using in this lab is **PatientInfo**."
      ]
    },
    {
      "cell_type": "markdown",
      "id": "3ac9bbf0",
      "metadata": {
        "id": "3ac9bbf0"
      },
      "source": [
        "## PatientInfo.csv\n",
        "\n",
        "**patient_id**\n",
        "the ID of the patient\n",
        "\n",
        "**sex**\n",
        "the sex of the patient\n",
        "\n",
        "**age**\n",
        "the age of the patient\n",
        "\n",
        "**country**\n",
        "the country of the patient\n",
        "\n",
        "**province**\n",
        "the province of the patient\n",
        "\n",
        "**city**\n",
        "the city of the patient\n",
        "\n",
        "**infection_case**\n",
        "the case of infection\n",
        "\n",
        "**infected_by**\n",
        "the ID of who infected the patient\n",
        "\n",
        "\n",
        "**contact_number**\n",
        "the number of contacts with people\n",
        "\n",
        "**symptom_onset_date**\n",
        "the date of symptom onset\n",
        "\n",
        "**confirmed_date**\n",
        "the date of being confirmed\n",
        "\n",
        "**released_date**\n",
        "the date of being released\n",
        "\n",
        "**deceased_date**\n",
        "the date of being deceased\n",
        "\n",
        "**state**\n",
        "isolated / released / deceased"
      ]
    },
    {
      "cell_type": "markdown",
      "id": "34b6f619",
      "metadata": {
        "id": "34b6f619"
      },
      "source": [
        "### Import the pyspark and check it's version"
      ]
    },
    {
      "cell_type": "code",
      "source": [
        "pip install pyspark py4j"
      ],
      "metadata": {
        "id": "dx7T3gtU-8P5",
        "outputId": "fdbb1064-4493-4780-ffcd-96d4b5d5ba37",
        "colab": {
          "base_uri": "https://localhost:8080/"
        }
      },
      "id": "dx7T3gtU-8P5",
      "execution_count": 1,
      "outputs": [
        {
          "output_type": "stream",
          "name": "stdout",
          "text": [
            "Looking in indexes: https://pypi.org/simple, https://us-python.pkg.dev/colab-wheels/public/simple/\n",
            "Collecting pyspark\n",
            "  Downloading pyspark-3.3.0.tar.gz (281.3 MB)\n",
            "\u001b[K     |████████████████████████████████| 281.3 MB 49 kB/s \n",
            "\u001b[?25hCollecting py4j\n",
            "  Downloading py4j-0.10.9.5-py2.py3-none-any.whl (199 kB)\n",
            "\u001b[K     |████████████████████████████████| 199 kB 50.3 MB/s \n",
            "\u001b[?25hBuilding wheels for collected packages: pyspark\n",
            "  Building wheel for pyspark (setup.py) ... \u001b[?25l\u001b[?25hdone\n",
            "  Created wheel for pyspark: filename=pyspark-3.3.0-py2.py3-none-any.whl size=281764026 sha256=f5178e339c478e6a9225b947ae391c103de9d2678604de093b2709296608bcd5\n",
            "  Stored in directory: /root/.cache/pip/wheels/7a/8e/1b/f73a52650d2e5f337708d9f6a1750d451a7349a867f928b885\n",
            "Successfully built pyspark\n",
            "Installing collected packages: py4j, pyspark\n",
            "Successfully installed py4j-0.10.9.5 pyspark-3.3.0\n"
          ]
        }
      ]
    },
    {
      "cell_type": "markdown",
      "id": "70c0fc8e",
      "metadata": {
        "id": "70c0fc8e"
      },
      "source": [
        "### Import and create SparkSession"
      ]
    },
    {
      "cell_type": "code",
      "execution_count": 2,
      "id": "94904228",
      "metadata": {
        "id": "94904228"
      },
      "outputs": [],
      "source": [
        "import pyspark\n",
        "from pyspark.sql import SparkSession\n",
        "spark = SparkSession.builder.appName('SparkSQL').getOrCreate()"
      ]
    },
    {
      "cell_type": "markdown",
      "id": "7356d68d",
      "metadata": {
        "id": "7356d68d"
      },
      "source": [
        "### Load the PatientInfo.csv file and show the first 5 rows"
      ]
    },
    {
      "cell_type": "code",
      "execution_count": 3,
      "id": "d5185728",
      "metadata": {
        "id": "d5185728",
        "outputId": "6d68acea-cb46-4690-f6c9-80adab69b457",
        "colab": {
          "base_uri": "https://localhost:8080/",
          "height": 17
        }
      },
      "outputs": [
        {
          "output_type": "display_data",
          "data": {
            "text/plain": [
              "<IPython.core.display.HTML object>"
            ],
            "text/html": [
              "<style>pre { white-space: pre !important; }</style>"
            ]
          },
          "metadata": {}
        }
      ],
      "source": [
        "from IPython.display import display, HTML\n",
        "display(HTML(\"<style>pre { white-space: pre !important; }</style>\"))"
      ]
    },
    {
      "cell_type": "code",
      "execution_count": 5,
      "id": "2196bca5",
      "metadata": {
        "id": "2196bca5"
      },
      "outputs": [],
      "source": [
        "df= spark.read.format('csv')\\\n",
        ".option(\"header\", \"true\")\\\n",
        ".option('infereSchema', 'true')\\\n",
        ".load(\"PatientInfo - PatientInfo.csv\")"
      ]
    },
    {
      "cell_type": "markdown",
      "id": "4d43bdca",
      "metadata": {
        "id": "4d43bdca"
      },
      "source": [
        "### Display the schema of the dataset"
      ]
    },
    {
      "cell_type": "code",
      "execution_count": 6,
      "id": "c51a2507",
      "metadata": {
        "id": "c51a2507",
        "outputId": "10e66cd1-861d-4f1e-dea1-a0ae5177c9b2",
        "colab": {
          "base_uri": "https://localhost:8080/"
        }
      },
      "outputs": [
        {
          "output_type": "stream",
          "name": "stdout",
          "text": [
            "root\n",
            " |-- patient_id: string (nullable = true)\n",
            " |-- sex: string (nullable = true)\n",
            " |-- age: string (nullable = true)\n",
            " |-- country: string (nullable = true)\n",
            " |-- province: string (nullable = true)\n",
            " |-- city: string (nullable = true)\n",
            " |-- infection_case: string (nullable = true)\n",
            " |-- infected_by: string (nullable = true)\n",
            " |-- contact_number: string (nullable = true)\n",
            " |-- symptom_onset_date: string (nullable = true)\n",
            " |-- confirmed_date: string (nullable = true)\n",
            " |-- released_date: string (nullable = true)\n",
            " |-- deceased_date: string (nullable = true)\n",
            " |-- state: string (nullable = true)\n",
            "\n"
          ]
        }
      ],
      "source": [
        "df.printSchema()"
      ]
    },
    {
      "cell_type": "markdown",
      "id": "3114e1dd",
      "metadata": {
        "id": "3114e1dd"
      },
      "source": [
        "### Display the statistical summary"
      ]
    },
    {
      "cell_type": "code",
      "source": [
        "df.show(5)"
      ],
      "metadata": {
        "id": "STE3IZfxBZox",
        "outputId": "6ed60274-d2b2-416f-9a02-7347fb9bd023",
        "colab": {
          "base_uri": "https://localhost:8080/"
        }
      },
      "id": "STE3IZfxBZox",
      "execution_count": 7,
      "outputs": [
        {
          "output_type": "stream",
          "name": "stdout",
          "text": [
            "+----------+------+---+-------+--------+-----------+--------------------+-----------+--------------+------------------+--------------+-------------+-------------+--------+\n",
            "|patient_id|   sex|age|country|province|       city|      infection_case|infected_by|contact_number|symptom_onset_date|confirmed_date|released_date|deceased_date|   state|\n",
            "+----------+------+---+-------+--------+-----------+--------------------+-----------+--------------+------------------+--------------+-------------+-------------+--------+\n",
            "|1000000001|  male|50s|  Korea|   Seoul| Gangseo-gu|     overseas inflow|       null|            75|        2020-01-22|    2020-01-23|   2020-02-05|         null|released|\n",
            "|1000000002|  male|30s|  Korea|   Seoul|Jungnang-gu|     overseas inflow|       null|            31|              null|    2020-01-30|   2020-03-02|         null|released|\n",
            "|1000000003|  male|50s|  Korea|   Seoul|  Jongno-gu|contact with patient| 2002000001|            17|              null|    2020-01-30|   2020-02-19|         null|released|\n",
            "|1000000004|  male|20s|  Korea|   Seoul|    Mapo-gu|     overseas inflow|       null|             9|        2020-01-26|    2020-01-30|   2020-02-15|         null|released|\n",
            "|1000000005|female|20s|  Korea|   Seoul|Seongbuk-gu|contact with patient| 1000000002|             2|              null|    2020-01-31|   2020-02-24|         null|released|\n",
            "+----------+------+---+-------+--------+-----------+--------------------+-----------+--------------+------------------+--------------+-------------+-------------+--------+\n",
            "only showing top 5 rows\n",
            "\n"
          ]
        }
      ]
    },
    {
      "cell_type": "code",
      "execution_count": 8,
      "id": "18d63947",
      "metadata": {
        "id": "18d63947",
        "outputId": "5858b9cc-385f-4309-91b9-9aca01b73288",
        "colab": {
          "base_uri": "https://localhost:8080/"
        }
      },
      "outputs": [
        {
          "output_type": "stream",
          "name": "stdout",
          "text": [
            "+-------+--------------------+------+----+----------+--------+--------------+--------------------+--------------------+--------------------+------------------+--------------+-------------+-------------+--------+\n",
            "|summary|          patient_id|   sex| age|   country|province|          city|      infection_case|         infected_by|      contact_number|symptom_onset_date|confirmed_date|released_date|deceased_date|   state|\n",
            "+-------+--------------------+------+----+----------+--------+--------------+--------------------+--------------------+--------------------+------------------+--------------+-------------+-------------+--------+\n",
            "|  count|                5165|  4043|3785|      5165|    5165|          5071|                4246|                1346|                 791|               689|          5162|         1587|           66|    5165|\n",
            "|   mean|2.8636345618679576E9|  null|null|      null|    null|          null|                null|2.2845944015643125E9|1.6772572523506988E7|              null|          null|         null|         null|    null|\n",
            "| stddev| 2.074210725277473E9|  null|null|      null|    null|          null|                null|1.5265072953383324E9| 3.093097580985502E8|              null|          null|         null|         null|    null|\n",
            "|    min|          1000000001|female|  0s|Bangladesh|   Busan|     Andong-si|Anyang Gunpo Past...|          1000000002|                   -|        2020-01-19|    2020-01-20|   2020-02-05|   2020-02-19|deceased|\n",
            "|    25%|       1.000001291E9|  null|null|      null|    null|          null|                null|       1.400000102E9|                 2.0|              null|          null|         null|         null|    null|\n",
            "|    50%|       2.000000369E9|  null|null|      null|    null|          null|                null|       2.000000167E9|                 4.0|              null|          null|         null|         null|    null|\n",
            "|    75%|       6.001000115E9|  null|null|      null|    null|          null|                null|       2.000000975E9|                14.0|              null|          null|         null|         null|    null|\n",
            "|    max|          7000000019|  male| 90s|   Vietnam|   Ulsan|sankyeock-dong|     overseas inflow|          7000000009|                  95|        2020-06-28|    2020-06-30|   2020-06-28|   2020-05-25|released|\n",
            "+-------+--------------------+------+----+----------+--------+--------------+--------------------+--------------------+--------------------+------------------+--------------+-------------+-------------+--------+\n",
            "\n"
          ]
        }
      ],
      "source": [
        "df.summary().show()"
      ]
    },
    {
      "cell_type": "markdown",
      "id": "c78859b9",
      "metadata": {
        "id": "c78859b9"
      },
      "source": [
        "### Using the state column.\n",
        "### How many people survived (released), and how many didn't survive (isolated/deceased)?"
      ]
    },
    {
      "cell_type": "code",
      "source": [
        "from pyspark.sql.functions import *"
      ],
      "metadata": {
        "id": "vKP0FtbeTUeB"
      },
      "id": "vKP0FtbeTUeB",
      "execution_count": 14,
      "outputs": []
    },
    {
      "cell_type": "code",
      "execution_count": 15,
      "id": "63e84045",
      "metadata": {
        "id": "63e84045",
        "outputId": "2e73e2d5-c6a1-4739-99b6-6e59ace8c144",
        "colab": {
          "base_uri": "https://localhost:8080/"
        }
      },
      "outputs": [
        {
          "output_type": "execute_result",
          "data": {
            "text/plain": [
              "2929"
            ]
          },
          "metadata": {},
          "execution_count": 15
        }
      ],
      "source": [
        "df.select('state').where(df.state=='released').count()"
      ]
    },
    {
      "cell_type": "code",
      "source": [
        "df.select('state').where((col('state')=='isolated')|(col('state')=='deceased')).count()"
      ],
      "metadata": {
        "id": "Ip3p3tkiC-ak",
        "colab": {
          "base_uri": "https://localhost:8080/"
        },
        "outputId": "8bf3db34-1253-48ff-d507-7336b8b07a1f"
      },
      "id": "Ip3p3tkiC-ak",
      "execution_count": 17,
      "outputs": [
        {
          "output_type": "execute_result",
          "data": {
            "text/plain": [
              "2236"
            ]
          },
          "metadata": {},
          "execution_count": 17
        }
      ]
    },
    {
      "cell_type": "markdown",
      "id": "59c16346",
      "metadata": {
        "id": "59c16346"
      },
      "source": [
        "### Display the number of null values in each column"
      ]
    },
    {
      "cell_type": "code",
      "source": [
        ""
      ],
      "metadata": {
        "id": "GgLVxszeEmcd"
      },
      "id": "GgLVxszeEmcd",
      "execution_count": null,
      "outputs": []
    },
    {
      "cell_type": "code",
      "execution_count": 18,
      "id": "4adc0ab6",
      "metadata": {
        "id": "4adc0ab6",
        "outputId": "98a4a929-a0a1-4d1a-cd22-1d9a895be86e",
        "colab": {
          "base_uri": "https://localhost:8080/"
        }
      },
      "outputs": [
        {
          "output_type": "stream",
          "name": "stdout",
          "text": [
            "+----------+----+----+-------+--------+----+--------------+-----------+--------------+------------------+--------------+-------------+-------------+-----+\n",
            "|patient_id| sex| age|country|province|city|infection_case|infected_by|contact_number|symptom_onset_date|confirmed_date|released_date|deceased_date|state|\n",
            "+----------+----+----+-------+--------+----+--------------+-----------+--------------+------------------+--------------+-------------+-------------+-----+\n",
            "|         0|1122|1380|      0|       0|  94|           919|       3819|          4374|              4476|             3|         3578|         5099|    0|\n",
            "+----------+----+----+-------+--------+----+--------------+-----------+--------------+------------------+--------------+-------------+-------------+-----+\n",
            "\n"
          ]
        }
      ],
      "source": [
        "df.select([count(when(isnan(c) | col(c).isNull(), c)).alias(c) for c in df.columns]\n",
        "   ).show()"
      ]
    },
    {
      "cell_type": "markdown",
      "id": "c3133f5a",
      "metadata": {
        "id": "c3133f5a"
      },
      "source": [
        "## Data preprocessing"
      ]
    },
    {
      "cell_type": "markdown",
      "id": "ec32fa0c",
      "metadata": {
        "id": "ec32fa0c"
      },
      "source": [
        "### Fill the nulls in the deceased_date with the released_date. \n",
        "- You can use <b>coalesce</b> function"
      ]
    },
    {
      "cell_type": "code",
      "source": [
        ""
      ],
      "metadata": {
        "id": "99WeScYsJkPp"
      },
      "id": "99WeScYsJkPp",
      "execution_count": 19,
      "outputs": []
    },
    {
      "cell_type": "code",
      "execution_count": 20,
      "id": "d5ba64f9",
      "metadata": {
        "id": "d5ba64f9"
      },
      "outputs": [],
      "source": [
        "tmp_df = df.withColumn('deceased_date', coalesce(df['deceased_date'], df['released_date']))"
      ]
    },
    {
      "cell_type": "markdown",
      "id": "4ec324f5",
      "metadata": {
        "id": "4ec324f5"
      },
      "source": [
        "### Add a column named no_days which is difference between the deceased_date and the confirmed_date then show the top 5 rows. Print the schema.\n",
        "- <b> Hint: You need to typecast these columns as date first <b>"
      ]
    },
    {
      "cell_type": "code",
      "source": [
        "tmp_df.show()"
      ],
      "metadata": {
        "id": "tInukYDHa2m8",
        "outputId": "cedbb765-ef25-42ba-bb18-d96399a954e1",
        "colab": {
          "base_uri": "https://localhost:8080/"
        }
      },
      "id": "tInukYDHa2m8",
      "execution_count": 21,
      "outputs": [
        {
          "output_type": "stream",
          "name": "stdout",
          "text": [
            "+----------+------+---+-------+--------+------------+--------------------+-----------+--------------+------------------+--------------+-------------+-------------+--------+\n",
            "|patient_id|   sex|age|country|province|        city|      infection_case|infected_by|contact_number|symptom_onset_date|confirmed_date|released_date|deceased_date|   state|\n",
            "+----------+------+---+-------+--------+------------+--------------------+-----------+--------------+------------------+--------------+-------------+-------------+--------+\n",
            "|1000000001|  male|50s|  Korea|   Seoul|  Gangseo-gu|     overseas inflow|       null|            75|        2020-01-22|    2020-01-23|   2020-02-05|   2020-02-05|released|\n",
            "|1000000002|  male|30s|  Korea|   Seoul| Jungnang-gu|     overseas inflow|       null|            31|              null|    2020-01-30|   2020-03-02|   2020-03-02|released|\n",
            "|1000000003|  male|50s|  Korea|   Seoul|   Jongno-gu|contact with patient| 2002000001|            17|              null|    2020-01-30|   2020-02-19|   2020-02-19|released|\n",
            "|1000000004|  male|20s|  Korea|   Seoul|     Mapo-gu|     overseas inflow|       null|             9|        2020-01-26|    2020-01-30|   2020-02-15|   2020-02-15|released|\n",
            "|1000000005|female|20s|  Korea|   Seoul| Seongbuk-gu|contact with patient| 1000000002|             2|              null|    2020-01-31|   2020-02-24|   2020-02-24|released|\n",
            "|1000000006|female|50s|  Korea|   Seoul|   Jongno-gu|contact with patient| 1000000003|            43|              null|    2020-01-31|   2020-02-19|   2020-02-19|released|\n",
            "|1000000007|  male|20s|  Korea|   Seoul|   Jongno-gu|contact with patient| 1000000003|             0|              null|    2020-01-31|   2020-02-10|   2020-02-10|released|\n",
            "|1000000008|  male|20s|  Korea|   Seoul|         etc|     overseas inflow|       null|             0|              null|    2020-02-02|   2020-02-24|   2020-02-24|released|\n",
            "|1000000009|  male|30s|  Korea|   Seoul|   Songpa-gu|     overseas inflow|       null|            68|              null|    2020-02-05|   2020-02-21|   2020-02-21|released|\n",
            "|1000000010|female|60s|  Korea|   Seoul| Seongbuk-gu|contact with patient| 1000000003|             6|              null|    2020-02-05|   2020-02-29|   2020-02-29|released|\n",
            "|1000000011|female|50s|  China|   Seoul|Seodaemun-gu|     overseas inflow|       null|            23|              null|    2020-02-06|   2020-02-29|   2020-02-29|released|\n",
            "|1000000012|  male|20s|  Korea|   Seoul|         etc|     overseas inflow|       null|             0|              null|    2020-02-07|   2020-02-27|   2020-02-27|released|\n",
            "|1000000013|  male|80s|  Korea|   Seoul|   Jongno-gu|contact with patient| 1000000017|           117|              null|    2020-02-16|         null|         null|deceased|\n",
            "|1000000014|female|60s|  Korea|   Seoul|   Jongno-gu|contact with patient| 1000000013|            27|        2020-02-06|    2020-02-16|   2020-03-12|   2020-03-12|released|\n",
            "|1000000015|  male|70s|  Korea|   Seoul|Seongdong-gu|    Seongdong-gu APT|       null|             8|        2020-02-11|    2020-02-19|         null|         null|released|\n",
            "|1000000016|  male|70s|  Korea|   Seoul|   Jongno-gu|contact with patient| 1000000017|          null|              null|    2020-02-19|   2020-03-11|   2020-03-11|released|\n",
            "|1000000017|  male|70s|  Korea|   Seoul|   Jongno-gu|contact with patient| 1000000003|          null|              null|    2020-02-20|   2020-03-01|   2020-03-01|released|\n",
            "|1000000018|  male|20s|  Korea|   Seoul|         etc|                 etc|       null|          null|              null|    2020-02-20|         null|         null|released|\n",
            "|1000000019|female|70s|  Korea|   Seoul|   Jongno-gu|contact with patient| 1000000021|          null|              null|    2020-02-20|   2020-03-08|   2020-03-08|released|\n",
            "|1000000020|female|70s|  Korea|   Seoul|Seongdong-gu|    Seongdong-gu APT| 1000000015|          null|              null|    2020-02-20|         null|         null|released|\n",
            "+----------+------+---+-------+--------+------------+--------------------+-----------+--------------+------------------+--------------+-------------+-------------+--------+\n",
            "only showing top 20 rows\n",
            "\n"
          ]
        }
      ]
    },
    {
      "cell_type": "code",
      "source": [
        "from  pyspark.sql.types import DateType\n",
        "from  pyspark.sql.types import DoubleType\n",
        "from  pyspark.sql.types import IntegerType\n"
      ],
      "metadata": {
        "id": "YlpFVAZreaXQ"
      },
      "id": "YlpFVAZreaXQ",
      "execution_count": 22,
      "outputs": []
    },
    {
      "cell_type": "code",
      "execution_count": 23,
      "id": "d065e472",
      "metadata": {
        "id": "d065e472"
      },
      "outputs": [],
      "source": [
        "df2 =tmp_df.withColumn(\"deceased_date\",col(\"deceased_date\").cast(DateType()))\\\n",
        "                       .withColumn(\"confirmed_date\",col(\"confirmed_date\").cast(DateType()))\n"
      ]
    },
    {
      "cell_type": "code",
      "source": [
        "df3= df2.withColumn(\"day_off\",col(\"deceased_date\") -col(\"confirmed_date\"))\n",
        "df3.select(\"day_off\").show(5)"
      ],
      "metadata": {
        "id": "BSIye1G5fypX",
        "outputId": "d6e1615c-6c6f-4b72-86dd-0c1f3217577a",
        "colab": {
          "base_uri": "https://localhost:8080/"
        }
      },
      "id": "BSIye1G5fypX",
      "execution_count": 24,
      "outputs": [
        {
          "output_type": "stream",
          "name": "stdout",
          "text": [
            "+-----------------+\n",
            "|          day_off|\n",
            "+-----------------+\n",
            "|INTERVAL '13' DAY|\n",
            "|INTERVAL '32' DAY|\n",
            "|INTERVAL '20' DAY|\n",
            "|INTERVAL '16' DAY|\n",
            "|INTERVAL '24' DAY|\n",
            "+-----------------+\n",
            "only showing top 5 rows\n",
            "\n"
          ]
        }
      ]
    },
    {
      "cell_type": "code",
      "source": [
        "df3.show()"
      ],
      "metadata": {
        "id": "ITW2k32dhJld",
        "outputId": "88b05b81-db72-42e3-c44d-7ed2559d5fdb",
        "colab": {
          "base_uri": "https://localhost:8080/"
        }
      },
      "id": "ITW2k32dhJld",
      "execution_count": 25,
      "outputs": [
        {
          "output_type": "stream",
          "name": "stdout",
          "text": [
            "+----------+------+---+-------+--------+------------+--------------------+-----------+--------------+------------------+--------------+-------------+-------------+--------+-----------------+\n",
            "|patient_id|   sex|age|country|province|        city|      infection_case|infected_by|contact_number|symptom_onset_date|confirmed_date|released_date|deceased_date|   state|          day_off|\n",
            "+----------+------+---+-------+--------+------------+--------------------+-----------+--------------+------------------+--------------+-------------+-------------+--------+-----------------+\n",
            "|1000000001|  male|50s|  Korea|   Seoul|  Gangseo-gu|     overseas inflow|       null|            75|        2020-01-22|    2020-01-23|   2020-02-05|   2020-02-05|released|INTERVAL '13' DAY|\n",
            "|1000000002|  male|30s|  Korea|   Seoul| Jungnang-gu|     overseas inflow|       null|            31|              null|    2020-01-30|   2020-03-02|   2020-03-02|released|INTERVAL '32' DAY|\n",
            "|1000000003|  male|50s|  Korea|   Seoul|   Jongno-gu|contact with patient| 2002000001|            17|              null|    2020-01-30|   2020-02-19|   2020-02-19|released|INTERVAL '20' DAY|\n",
            "|1000000004|  male|20s|  Korea|   Seoul|     Mapo-gu|     overseas inflow|       null|             9|        2020-01-26|    2020-01-30|   2020-02-15|   2020-02-15|released|INTERVAL '16' DAY|\n",
            "|1000000005|female|20s|  Korea|   Seoul| Seongbuk-gu|contact with patient| 1000000002|             2|              null|    2020-01-31|   2020-02-24|   2020-02-24|released|INTERVAL '24' DAY|\n",
            "|1000000006|female|50s|  Korea|   Seoul|   Jongno-gu|contact with patient| 1000000003|            43|              null|    2020-01-31|   2020-02-19|   2020-02-19|released|INTERVAL '19' DAY|\n",
            "|1000000007|  male|20s|  Korea|   Seoul|   Jongno-gu|contact with patient| 1000000003|             0|              null|    2020-01-31|   2020-02-10|   2020-02-10|released|INTERVAL '10' DAY|\n",
            "|1000000008|  male|20s|  Korea|   Seoul|         etc|     overseas inflow|       null|             0|              null|    2020-02-02|   2020-02-24|   2020-02-24|released|INTERVAL '22' DAY|\n",
            "|1000000009|  male|30s|  Korea|   Seoul|   Songpa-gu|     overseas inflow|       null|            68|              null|    2020-02-05|   2020-02-21|   2020-02-21|released|INTERVAL '16' DAY|\n",
            "|1000000010|female|60s|  Korea|   Seoul| Seongbuk-gu|contact with patient| 1000000003|             6|              null|    2020-02-05|   2020-02-29|   2020-02-29|released|INTERVAL '24' DAY|\n",
            "|1000000011|female|50s|  China|   Seoul|Seodaemun-gu|     overseas inflow|       null|            23|              null|    2020-02-06|   2020-02-29|   2020-02-29|released|INTERVAL '23' DAY|\n",
            "|1000000012|  male|20s|  Korea|   Seoul|         etc|     overseas inflow|       null|             0|              null|    2020-02-07|   2020-02-27|   2020-02-27|released|INTERVAL '20' DAY|\n",
            "|1000000013|  male|80s|  Korea|   Seoul|   Jongno-gu|contact with patient| 1000000017|           117|              null|    2020-02-16|         null|         null|deceased|             null|\n",
            "|1000000014|female|60s|  Korea|   Seoul|   Jongno-gu|contact with patient| 1000000013|            27|        2020-02-06|    2020-02-16|   2020-03-12|   2020-03-12|released|INTERVAL '25' DAY|\n",
            "|1000000015|  male|70s|  Korea|   Seoul|Seongdong-gu|    Seongdong-gu APT|       null|             8|        2020-02-11|    2020-02-19|         null|         null|released|             null|\n",
            "|1000000016|  male|70s|  Korea|   Seoul|   Jongno-gu|contact with patient| 1000000017|          null|              null|    2020-02-19|   2020-03-11|   2020-03-11|released|INTERVAL '21' DAY|\n",
            "|1000000017|  male|70s|  Korea|   Seoul|   Jongno-gu|contact with patient| 1000000003|          null|              null|    2020-02-20|   2020-03-01|   2020-03-01|released|INTERVAL '10' DAY|\n",
            "|1000000018|  male|20s|  Korea|   Seoul|         etc|                 etc|       null|          null|              null|    2020-02-20|         null|         null|released|             null|\n",
            "|1000000019|female|70s|  Korea|   Seoul|   Jongno-gu|contact with patient| 1000000021|          null|              null|    2020-02-20|   2020-03-08|   2020-03-08|released|INTERVAL '17' DAY|\n",
            "|1000000020|female|70s|  Korea|   Seoul|Seongdong-gu|    Seongdong-gu APT| 1000000015|          null|              null|    2020-02-20|         null|         null|released|             null|\n",
            "+----------+------+---+-------+--------+------------+--------------------+-----------+--------------+------------------+--------------+-------------+-------------+--------+-----------------+\n",
            "only showing top 20 rows\n",
            "\n"
          ]
        }
      ]
    },
    {
      "cell_type": "code",
      "source": [
        "df4= df2.withColumn(\"day_off\",datediff(df2.deceased_date,df2.confirmed_date))\n"
      ],
      "metadata": {
        "id": "otgCRe5PhQcm"
      },
      "id": "otgCRe5PhQcm",
      "execution_count": 26,
      "outputs": []
    },
    {
      "cell_type": "code",
      "source": [
        "df4.show()"
      ],
      "metadata": {
        "id": "fiEB1CW_hizM",
        "outputId": "0b1be619-5090-4296-e2c8-acf0b8fbc347",
        "colab": {
          "base_uri": "https://localhost:8080/"
        }
      },
      "id": "fiEB1CW_hizM",
      "execution_count": 27,
      "outputs": [
        {
          "output_type": "stream",
          "name": "stdout",
          "text": [
            "+----------+------+---+-------+--------+------------+--------------------+-----------+--------------+------------------+--------------+-------------+-------------+--------+-------+\n",
            "|patient_id|   sex|age|country|province|        city|      infection_case|infected_by|contact_number|symptom_onset_date|confirmed_date|released_date|deceased_date|   state|day_off|\n",
            "+----------+------+---+-------+--------+------------+--------------------+-----------+--------------+------------------+--------------+-------------+-------------+--------+-------+\n",
            "|1000000001|  male|50s|  Korea|   Seoul|  Gangseo-gu|     overseas inflow|       null|            75|        2020-01-22|    2020-01-23|   2020-02-05|   2020-02-05|released|     13|\n",
            "|1000000002|  male|30s|  Korea|   Seoul| Jungnang-gu|     overseas inflow|       null|            31|              null|    2020-01-30|   2020-03-02|   2020-03-02|released|     32|\n",
            "|1000000003|  male|50s|  Korea|   Seoul|   Jongno-gu|contact with patient| 2002000001|            17|              null|    2020-01-30|   2020-02-19|   2020-02-19|released|     20|\n",
            "|1000000004|  male|20s|  Korea|   Seoul|     Mapo-gu|     overseas inflow|       null|             9|        2020-01-26|    2020-01-30|   2020-02-15|   2020-02-15|released|     16|\n",
            "|1000000005|female|20s|  Korea|   Seoul| Seongbuk-gu|contact with patient| 1000000002|             2|              null|    2020-01-31|   2020-02-24|   2020-02-24|released|     24|\n",
            "|1000000006|female|50s|  Korea|   Seoul|   Jongno-gu|contact with patient| 1000000003|            43|              null|    2020-01-31|   2020-02-19|   2020-02-19|released|     19|\n",
            "|1000000007|  male|20s|  Korea|   Seoul|   Jongno-gu|contact with patient| 1000000003|             0|              null|    2020-01-31|   2020-02-10|   2020-02-10|released|     10|\n",
            "|1000000008|  male|20s|  Korea|   Seoul|         etc|     overseas inflow|       null|             0|              null|    2020-02-02|   2020-02-24|   2020-02-24|released|     22|\n",
            "|1000000009|  male|30s|  Korea|   Seoul|   Songpa-gu|     overseas inflow|       null|            68|              null|    2020-02-05|   2020-02-21|   2020-02-21|released|     16|\n",
            "|1000000010|female|60s|  Korea|   Seoul| Seongbuk-gu|contact with patient| 1000000003|             6|              null|    2020-02-05|   2020-02-29|   2020-02-29|released|     24|\n",
            "|1000000011|female|50s|  China|   Seoul|Seodaemun-gu|     overseas inflow|       null|            23|              null|    2020-02-06|   2020-02-29|   2020-02-29|released|     23|\n",
            "|1000000012|  male|20s|  Korea|   Seoul|         etc|     overseas inflow|       null|             0|              null|    2020-02-07|   2020-02-27|   2020-02-27|released|     20|\n",
            "|1000000013|  male|80s|  Korea|   Seoul|   Jongno-gu|contact with patient| 1000000017|           117|              null|    2020-02-16|         null|         null|deceased|   null|\n",
            "|1000000014|female|60s|  Korea|   Seoul|   Jongno-gu|contact with patient| 1000000013|            27|        2020-02-06|    2020-02-16|   2020-03-12|   2020-03-12|released|     25|\n",
            "|1000000015|  male|70s|  Korea|   Seoul|Seongdong-gu|    Seongdong-gu APT|       null|             8|        2020-02-11|    2020-02-19|         null|         null|released|   null|\n",
            "|1000000016|  male|70s|  Korea|   Seoul|   Jongno-gu|contact with patient| 1000000017|          null|              null|    2020-02-19|   2020-03-11|   2020-03-11|released|     21|\n",
            "|1000000017|  male|70s|  Korea|   Seoul|   Jongno-gu|contact with patient| 1000000003|          null|              null|    2020-02-20|   2020-03-01|   2020-03-01|released|     10|\n",
            "|1000000018|  male|20s|  Korea|   Seoul|         etc|                 etc|       null|          null|              null|    2020-02-20|         null|         null|released|   null|\n",
            "|1000000019|female|70s|  Korea|   Seoul|   Jongno-gu|contact with patient| 1000000021|          null|              null|    2020-02-20|   2020-03-08|   2020-03-08|released|     17|\n",
            "|1000000020|female|70s|  Korea|   Seoul|Seongdong-gu|    Seongdong-gu APT| 1000000015|          null|              null|    2020-02-20|         null|         null|released|   null|\n",
            "+----------+------+---+-------+--------+------------+--------------------+-----------+--------------+------------------+--------------+-------------+-------------+--------+-------+\n",
            "only showing top 20 rows\n",
            "\n"
          ]
        }
      ]
    },
    {
      "cell_type": "markdown",
      "id": "967b2466",
      "metadata": {
        "id": "967b2466"
      },
      "source": [
        "### Add a is_male column if male then it should yield true, else then False"
      ]
    },
    {
      "cell_type": "code",
      "execution_count": 28,
      "id": "8efe03b5",
      "metadata": {
        "id": "8efe03b5"
      },
      "outputs": [],
      "source": [
        "df5=df4.withColumn(\"is_male\",df4.sex=='male')"
      ]
    },
    {
      "cell_type": "code",
      "source": [
        "df5.show()"
      ],
      "metadata": {
        "id": "X0i1BYcnipMk",
        "outputId": "38ff1f7a-4a82-400f-adbe-7d51a28c5ac5",
        "colab": {
          "base_uri": "https://localhost:8080/"
        }
      },
      "id": "X0i1BYcnipMk",
      "execution_count": 29,
      "outputs": [
        {
          "output_type": "stream",
          "name": "stdout",
          "text": [
            "+----------+------+---+-------+--------+------------+--------------------+-----------+--------------+------------------+--------------+-------------+-------------+--------+-------+-------+\n",
            "|patient_id|   sex|age|country|province|        city|      infection_case|infected_by|contact_number|symptom_onset_date|confirmed_date|released_date|deceased_date|   state|day_off|is_male|\n",
            "+----------+------+---+-------+--------+------------+--------------------+-----------+--------------+------------------+--------------+-------------+-------------+--------+-------+-------+\n",
            "|1000000001|  male|50s|  Korea|   Seoul|  Gangseo-gu|     overseas inflow|       null|            75|        2020-01-22|    2020-01-23|   2020-02-05|   2020-02-05|released|     13|   true|\n",
            "|1000000002|  male|30s|  Korea|   Seoul| Jungnang-gu|     overseas inflow|       null|            31|              null|    2020-01-30|   2020-03-02|   2020-03-02|released|     32|   true|\n",
            "|1000000003|  male|50s|  Korea|   Seoul|   Jongno-gu|contact with patient| 2002000001|            17|              null|    2020-01-30|   2020-02-19|   2020-02-19|released|     20|   true|\n",
            "|1000000004|  male|20s|  Korea|   Seoul|     Mapo-gu|     overseas inflow|       null|             9|        2020-01-26|    2020-01-30|   2020-02-15|   2020-02-15|released|     16|   true|\n",
            "|1000000005|female|20s|  Korea|   Seoul| Seongbuk-gu|contact with patient| 1000000002|             2|              null|    2020-01-31|   2020-02-24|   2020-02-24|released|     24|  false|\n",
            "|1000000006|female|50s|  Korea|   Seoul|   Jongno-gu|contact with patient| 1000000003|            43|              null|    2020-01-31|   2020-02-19|   2020-02-19|released|     19|  false|\n",
            "|1000000007|  male|20s|  Korea|   Seoul|   Jongno-gu|contact with patient| 1000000003|             0|              null|    2020-01-31|   2020-02-10|   2020-02-10|released|     10|   true|\n",
            "|1000000008|  male|20s|  Korea|   Seoul|         etc|     overseas inflow|       null|             0|              null|    2020-02-02|   2020-02-24|   2020-02-24|released|     22|   true|\n",
            "|1000000009|  male|30s|  Korea|   Seoul|   Songpa-gu|     overseas inflow|       null|            68|              null|    2020-02-05|   2020-02-21|   2020-02-21|released|     16|   true|\n",
            "|1000000010|female|60s|  Korea|   Seoul| Seongbuk-gu|contact with patient| 1000000003|             6|              null|    2020-02-05|   2020-02-29|   2020-02-29|released|     24|  false|\n",
            "|1000000011|female|50s|  China|   Seoul|Seodaemun-gu|     overseas inflow|       null|            23|              null|    2020-02-06|   2020-02-29|   2020-02-29|released|     23|  false|\n",
            "|1000000012|  male|20s|  Korea|   Seoul|         etc|     overseas inflow|       null|             0|              null|    2020-02-07|   2020-02-27|   2020-02-27|released|     20|   true|\n",
            "|1000000013|  male|80s|  Korea|   Seoul|   Jongno-gu|contact with patient| 1000000017|           117|              null|    2020-02-16|         null|         null|deceased|   null|   true|\n",
            "|1000000014|female|60s|  Korea|   Seoul|   Jongno-gu|contact with patient| 1000000013|            27|        2020-02-06|    2020-02-16|   2020-03-12|   2020-03-12|released|     25|  false|\n",
            "|1000000015|  male|70s|  Korea|   Seoul|Seongdong-gu|    Seongdong-gu APT|       null|             8|        2020-02-11|    2020-02-19|         null|         null|released|   null|   true|\n",
            "|1000000016|  male|70s|  Korea|   Seoul|   Jongno-gu|contact with patient| 1000000017|          null|              null|    2020-02-19|   2020-03-11|   2020-03-11|released|     21|   true|\n",
            "|1000000017|  male|70s|  Korea|   Seoul|   Jongno-gu|contact with patient| 1000000003|          null|              null|    2020-02-20|   2020-03-01|   2020-03-01|released|     10|   true|\n",
            "|1000000018|  male|20s|  Korea|   Seoul|         etc|                 etc|       null|          null|              null|    2020-02-20|         null|         null|released|   null|   true|\n",
            "|1000000019|female|70s|  Korea|   Seoul|   Jongno-gu|contact with patient| 1000000021|          null|              null|    2020-02-20|   2020-03-08|   2020-03-08|released|     17|  false|\n",
            "|1000000020|female|70s|  Korea|   Seoul|Seongdong-gu|    Seongdong-gu APT| 1000000015|          null|              null|    2020-02-20|         null|         null|released|   null|  false|\n",
            "+----------+------+---+-------+--------+------------+--------------------+-----------+--------------+------------------+--------------+-------------+-------------+--------+-------+-------+\n",
            "only showing top 20 rows\n",
            "\n"
          ]
        }
      ]
    },
    {
      "cell_type": "markdown",
      "id": "8603d7c0",
      "metadata": {
        "id": "8603d7c0"
      },
      "source": [
        "### Add a is_dead column if patient state is not released then it should yield true, else then False\n",
        "\n",
        "- Use <b>UDF</b> to perform this task. \n",
        "- However, UDF is not recommended there is no built in function can do the required operation.\n",
        "- UDF is slower than built in functions."
      ]
    },
    {
      "cell_type": "code",
      "execution_count": 30,
      "id": "d3343075",
      "metadata": {
        "id": "d3343075"
      },
      "outputs": [],
      "source": [
        "udf_fun=udf(lambda z: z!='released')\n",
        "df6=df5.withColumn(\"is_dead\",udf_fun(col('state')))"
      ]
    },
    {
      "cell_type": "code",
      "source": [
        "df6.show()"
      ],
      "metadata": {
        "id": "U9q60kvOkHqS",
        "outputId": "aa80f5c7-2870-4dcf-b443-61f9e1188cd3",
        "colab": {
          "base_uri": "https://localhost:8080/"
        }
      },
      "id": "U9q60kvOkHqS",
      "execution_count": 31,
      "outputs": [
        {
          "output_type": "stream",
          "name": "stdout",
          "text": [
            "+----------+------+---+-------+--------+------------+--------------------+-----------+--------------+------------------+--------------+-------------+-------------+--------+-------+-------+-------+\n",
            "|patient_id|   sex|age|country|province|        city|      infection_case|infected_by|contact_number|symptom_onset_date|confirmed_date|released_date|deceased_date|   state|day_off|is_male|is_dead|\n",
            "+----------+------+---+-------+--------+------------+--------------------+-----------+--------------+------------------+--------------+-------------+-------------+--------+-------+-------+-------+\n",
            "|1000000001|  male|50s|  Korea|   Seoul|  Gangseo-gu|     overseas inflow|       null|            75|        2020-01-22|    2020-01-23|   2020-02-05|   2020-02-05|released|     13|   true|  false|\n",
            "|1000000002|  male|30s|  Korea|   Seoul| Jungnang-gu|     overseas inflow|       null|            31|              null|    2020-01-30|   2020-03-02|   2020-03-02|released|     32|   true|  false|\n",
            "|1000000003|  male|50s|  Korea|   Seoul|   Jongno-gu|contact with patient| 2002000001|            17|              null|    2020-01-30|   2020-02-19|   2020-02-19|released|     20|   true|  false|\n",
            "|1000000004|  male|20s|  Korea|   Seoul|     Mapo-gu|     overseas inflow|       null|             9|        2020-01-26|    2020-01-30|   2020-02-15|   2020-02-15|released|     16|   true|  false|\n",
            "|1000000005|female|20s|  Korea|   Seoul| Seongbuk-gu|contact with patient| 1000000002|             2|              null|    2020-01-31|   2020-02-24|   2020-02-24|released|     24|  false|  false|\n",
            "|1000000006|female|50s|  Korea|   Seoul|   Jongno-gu|contact with patient| 1000000003|            43|              null|    2020-01-31|   2020-02-19|   2020-02-19|released|     19|  false|  false|\n",
            "|1000000007|  male|20s|  Korea|   Seoul|   Jongno-gu|contact with patient| 1000000003|             0|              null|    2020-01-31|   2020-02-10|   2020-02-10|released|     10|   true|  false|\n",
            "|1000000008|  male|20s|  Korea|   Seoul|         etc|     overseas inflow|       null|             0|              null|    2020-02-02|   2020-02-24|   2020-02-24|released|     22|   true|  false|\n",
            "|1000000009|  male|30s|  Korea|   Seoul|   Songpa-gu|     overseas inflow|       null|            68|              null|    2020-02-05|   2020-02-21|   2020-02-21|released|     16|   true|  false|\n",
            "|1000000010|female|60s|  Korea|   Seoul| Seongbuk-gu|contact with patient| 1000000003|             6|              null|    2020-02-05|   2020-02-29|   2020-02-29|released|     24|  false|  false|\n",
            "|1000000011|female|50s|  China|   Seoul|Seodaemun-gu|     overseas inflow|       null|            23|              null|    2020-02-06|   2020-02-29|   2020-02-29|released|     23|  false|  false|\n",
            "|1000000012|  male|20s|  Korea|   Seoul|         etc|     overseas inflow|       null|             0|              null|    2020-02-07|   2020-02-27|   2020-02-27|released|     20|   true|  false|\n",
            "|1000000013|  male|80s|  Korea|   Seoul|   Jongno-gu|contact with patient| 1000000017|           117|              null|    2020-02-16|         null|         null|deceased|   null|   true|   true|\n",
            "|1000000014|female|60s|  Korea|   Seoul|   Jongno-gu|contact with patient| 1000000013|            27|        2020-02-06|    2020-02-16|   2020-03-12|   2020-03-12|released|     25|  false|  false|\n",
            "|1000000015|  male|70s|  Korea|   Seoul|Seongdong-gu|    Seongdong-gu APT|       null|             8|        2020-02-11|    2020-02-19|         null|         null|released|   null|   true|  false|\n",
            "|1000000016|  male|70s|  Korea|   Seoul|   Jongno-gu|contact with patient| 1000000017|          null|              null|    2020-02-19|   2020-03-11|   2020-03-11|released|     21|   true|  false|\n",
            "|1000000017|  male|70s|  Korea|   Seoul|   Jongno-gu|contact with patient| 1000000003|          null|              null|    2020-02-20|   2020-03-01|   2020-03-01|released|     10|   true|  false|\n",
            "|1000000018|  male|20s|  Korea|   Seoul|         etc|                 etc|       null|          null|              null|    2020-02-20|         null|         null|released|   null|   true|  false|\n",
            "|1000000019|female|70s|  Korea|   Seoul|   Jongno-gu|contact with patient| 1000000021|          null|              null|    2020-02-20|   2020-03-08|   2020-03-08|released|     17|  false|  false|\n",
            "|1000000020|female|70s|  Korea|   Seoul|Seongdong-gu|    Seongdong-gu APT| 1000000015|          null|              null|    2020-02-20|         null|         null|released|   null|  false|  false|\n",
            "+----------+------+---+-------+--------+------------+--------------------+-----------+--------------+------------------+--------------+-------------+-------------+--------+-------+-------+-------+\n",
            "only showing top 20 rows\n",
            "\n"
          ]
        }
      ]
    },
    {
      "cell_type": "markdown",
      "id": "e15264a9",
      "metadata": {
        "id": "e15264a9"
      },
      "source": [
        "### Change the ages to bins from 10s, 0s, 10s, 20s,.etc to 0,10, 20"
      ]
    },
    {
      "cell_type": "code",
      "execution_count": 32,
      "id": "7a2b57ed",
      "metadata": {
        "id": "7a2b57ed"
      },
      "outputs": [],
      "source": [
        "\n",
        "df7=df6.withColumn(\"age\",split(df6['age'], 's').getItem(0))\n"
      ]
    },
    {
      "cell_type": "code",
      "source": [
        "df7.show(5)"
      ],
      "metadata": {
        "id": "YGePnVduk7LF",
        "outputId": "6b0cf166-b211-42b8-dc50-e3daa08a7711",
        "colab": {
          "base_uri": "https://localhost:8080/"
        }
      },
      "id": "YGePnVduk7LF",
      "execution_count": 33,
      "outputs": [
        {
          "output_type": "stream",
          "name": "stdout",
          "text": [
            "+----------+------+---+-------+--------+-----------+--------------------+-----------+--------------+------------------+--------------+-------------+-------------+--------+-------+-------+-------+\n",
            "|patient_id|   sex|age|country|province|       city|      infection_case|infected_by|contact_number|symptom_onset_date|confirmed_date|released_date|deceased_date|   state|day_off|is_male|is_dead|\n",
            "+----------+------+---+-------+--------+-----------+--------------------+-----------+--------------+------------------+--------------+-------------+-------------+--------+-------+-------+-------+\n",
            "|1000000001|  male| 50|  Korea|   Seoul| Gangseo-gu|     overseas inflow|       null|            75|        2020-01-22|    2020-01-23|   2020-02-05|   2020-02-05|released|     13|   true|  false|\n",
            "|1000000002|  male| 30|  Korea|   Seoul|Jungnang-gu|     overseas inflow|       null|            31|              null|    2020-01-30|   2020-03-02|   2020-03-02|released|     32|   true|  false|\n",
            "|1000000003|  male| 50|  Korea|   Seoul|  Jongno-gu|contact with patient| 2002000001|            17|              null|    2020-01-30|   2020-02-19|   2020-02-19|released|     20|   true|  false|\n",
            "|1000000004|  male| 20|  Korea|   Seoul|    Mapo-gu|     overseas inflow|       null|             9|        2020-01-26|    2020-01-30|   2020-02-15|   2020-02-15|released|     16|   true|  false|\n",
            "|1000000005|female| 20|  Korea|   Seoul|Seongbuk-gu|contact with patient| 1000000002|             2|              null|    2020-01-31|   2020-02-24|   2020-02-24|released|     24|  false|  false|\n",
            "+----------+------+---+-------+--------+-----------+--------------------+-----------+--------------+------------------+--------------+-------------+-------------+--------+-------+-------+-------+\n",
            "only showing top 5 rows\n",
            "\n"
          ]
        }
      ]
    },
    {
      "cell_type": "markdown",
      "id": "43cdf846",
      "metadata": {
        "id": "43cdf846"
      },
      "source": [
        "### Change age, and no_days  to be typecasted as Double"
      ]
    },
    {
      "cell_type": "code",
      "execution_count": 34,
      "id": "dfea7fcb",
      "metadata": {
        "id": "dfea7fcb"
      },
      "outputs": [],
      "source": [
        "df8=df7.withColumn(\"age\",col(\"age\").cast(DoubleType()))\\\n",
        ".withColumn(\"day_off\",col(\"day_off\").cast(DoubleType()))"
      ]
    },
    {
      "cell_type": "markdown",
      "id": "d31e3a87",
      "metadata": {
        "id": "d31e3a87"
      },
      "source": [
        "### Drop the columns\n",
        "[\"patient_id\",\"sex\",\"infected_by\",\"contact_number\",\"released_date\",\"state\",\n",
        "\"symptom_onset_date\",\"confirmed_date\",\"deceased_date\",\"country\",\"no_days\",\n",
        "\"city\",\"infection_case\"]"
      ]
    },
    {
      "cell_type": "code",
      "execution_count": 35,
      "id": "3ae0c428",
      "metadata": {
        "id": "3ae0c428"
      },
      "outputs": [],
      "source": [
        "cols = (\"patient_id\",\"sex\",\"infected_by\",\"contact_number\",\"released_date\",\n",
        "        \"state\", \"symptom_onset_date\",\"confirmed_date\"\n",
        ",\"deceased_date\",\"country\",\"day_off\", \"city\",\"infection_case\")\n",
        "\n",
        "df9=df8.drop(*cols)\n",
        "  "
      ]
    },
    {
      "cell_type": "code",
      "source": [
        "df9.show()"
      ],
      "metadata": {
        "id": "Ghz1HS73nzOP",
        "outputId": "5b8bfdb1-36ab-4a67-e046-8193d1365120",
        "colab": {
          "base_uri": "https://localhost:8080/"
        }
      },
      "id": "Ghz1HS73nzOP",
      "execution_count": 36,
      "outputs": [
        {
          "output_type": "stream",
          "name": "stdout",
          "text": [
            "+----+--------+-------+-------+\n",
            "| age|province|is_male|is_dead|\n",
            "+----+--------+-------+-------+\n",
            "|50.0|   Seoul|   true|  false|\n",
            "|30.0|   Seoul|   true|  false|\n",
            "|50.0|   Seoul|   true|  false|\n",
            "|20.0|   Seoul|   true|  false|\n",
            "|20.0|   Seoul|  false|  false|\n",
            "|50.0|   Seoul|  false|  false|\n",
            "|20.0|   Seoul|   true|  false|\n",
            "|20.0|   Seoul|   true|  false|\n",
            "|30.0|   Seoul|   true|  false|\n",
            "|60.0|   Seoul|  false|  false|\n",
            "|50.0|   Seoul|  false|  false|\n",
            "|20.0|   Seoul|   true|  false|\n",
            "|80.0|   Seoul|   true|   true|\n",
            "|60.0|   Seoul|  false|  false|\n",
            "|70.0|   Seoul|   true|  false|\n",
            "|70.0|   Seoul|   true|  false|\n",
            "|70.0|   Seoul|   true|  false|\n",
            "|20.0|   Seoul|   true|  false|\n",
            "|70.0|   Seoul|  false|  false|\n",
            "|70.0|   Seoul|  false|  false|\n",
            "+----+--------+-------+-------+\n",
            "only showing top 20 rows\n",
            "\n"
          ]
        }
      ]
    },
    {
      "cell_type": "markdown",
      "id": "32df47a6",
      "metadata": {
        "id": "32df47a6"
      },
      "source": [
        "### Recount the number of nulls now"
      ]
    },
    {
      "cell_type": "code",
      "source": [
        ""
      ],
      "metadata": {
        "id": "7Lg2PgS8r2vk"
      },
      "id": "7Lg2PgS8r2vk",
      "execution_count": null,
      "outputs": []
    },
    {
      "cell_type": "code",
      "execution_count": 38,
      "id": "6d66eaa7",
      "metadata": {
        "id": "6d66eaa7",
        "outputId": "97d25a32-bcb9-49c5-d80a-c90203bfab88",
        "colab": {
          "base_uri": "https://localhost:8080/"
        }
      },
      "outputs": [
        {
          "output_type": "stream",
          "name": "stdout",
          "text": [
            "+----+--------+-------+-------+\n",
            "| age|province|is_male|is_dead|\n",
            "+----+--------+-------+-------+\n",
            "|1380|       0|   1122|      0|\n",
            "+----+--------+-------+-------+\n",
            "\n"
          ]
        }
      ],
      "source": [
        "df9.select([count(when(col(c).isNull(), c)).alias(c) for c in df9.columns]\n",
        "   ).show()"
      ]
    },
    {
      "cell_type": "markdown",
      "id": "cc71f158",
      "metadata": {
        "id": "cc71f158"
      },
      "source": [
        "## Now do the same but using SQL select statement"
      ]
    },
    {
      "cell_type": "markdown",
      "id": "1d540282",
      "metadata": {
        "id": "1d540282"
      },
      "source": [
        "### From the original Patient DataFrame, Create a temporary view (table)."
      ]
    },
    {
      "cell_type": "code",
      "execution_count": 46,
      "id": "cf56099f",
      "metadata": {
        "id": "cf56099f"
      },
      "outputs": [],
      "source": [
        "df.createOrReplaceTempView('tableview')"
      ]
    },
    {
      "cell_type": "code",
      "source": [
        ""
      ],
      "metadata": {
        "id": "9i7ZBLI7UhTs"
      },
      "id": "9i7ZBLI7UhTs",
      "execution_count": 44,
      "outputs": []
    },
    {
      "cell_type": "markdown",
      "id": "cb004277",
      "metadata": {
        "id": "cb004277"
      },
      "source": [
        "### Use SELECT statement to select all columns from the dataframe and show the output."
      ]
    },
    {
      "cell_type": "code",
      "execution_count": 47,
      "id": "12ae8226",
      "metadata": {
        "scrolled": false,
        "id": "12ae8226",
        "colab": {
          "base_uri": "https://localhost:8080/"
        },
        "outputId": "53c7d7dc-aece-4796-9bc8-baf225e084e2"
      },
      "outputs": [
        {
          "output_type": "stream",
          "name": "stdout",
          "text": [
            "+----------+------+---+-------+--------+------------+--------------------+-----------+--------------+------------------+--------------+-------------+-------------+--------+\n",
            "|patient_id|   sex|age|country|province|        city|      infection_case|infected_by|contact_number|symptom_onset_date|confirmed_date|released_date|deceased_date|   state|\n",
            "+----------+------+---+-------+--------+------------+--------------------+-----------+--------------+------------------+--------------+-------------+-------------+--------+\n",
            "|1000000001|  male|50s|  Korea|   Seoul|  Gangseo-gu|     overseas inflow|       null|            75|        2020-01-22|    2020-01-23|   2020-02-05|         null|released|\n",
            "|1000000002|  male|30s|  Korea|   Seoul| Jungnang-gu|     overseas inflow|       null|            31|              null|    2020-01-30|   2020-03-02|         null|released|\n",
            "|1000000003|  male|50s|  Korea|   Seoul|   Jongno-gu|contact with patient| 2002000001|            17|              null|    2020-01-30|   2020-02-19|         null|released|\n",
            "|1000000004|  male|20s|  Korea|   Seoul|     Mapo-gu|     overseas inflow|       null|             9|        2020-01-26|    2020-01-30|   2020-02-15|         null|released|\n",
            "|1000000005|female|20s|  Korea|   Seoul| Seongbuk-gu|contact with patient| 1000000002|             2|              null|    2020-01-31|   2020-02-24|         null|released|\n",
            "|1000000006|female|50s|  Korea|   Seoul|   Jongno-gu|contact with patient| 1000000003|            43|              null|    2020-01-31|   2020-02-19|         null|released|\n",
            "|1000000007|  male|20s|  Korea|   Seoul|   Jongno-gu|contact with patient| 1000000003|             0|              null|    2020-01-31|   2020-02-10|         null|released|\n",
            "|1000000008|  male|20s|  Korea|   Seoul|         etc|     overseas inflow|       null|             0|              null|    2020-02-02|   2020-02-24|         null|released|\n",
            "|1000000009|  male|30s|  Korea|   Seoul|   Songpa-gu|     overseas inflow|       null|            68|              null|    2020-02-05|   2020-02-21|         null|released|\n",
            "|1000000010|female|60s|  Korea|   Seoul| Seongbuk-gu|contact with patient| 1000000003|             6|              null|    2020-02-05|   2020-02-29|         null|released|\n",
            "|1000000011|female|50s|  China|   Seoul|Seodaemun-gu|     overseas inflow|       null|            23|              null|    2020-02-06|   2020-02-29|         null|released|\n",
            "|1000000012|  male|20s|  Korea|   Seoul|         etc|     overseas inflow|       null|             0|              null|    2020-02-07|   2020-02-27|         null|released|\n",
            "|1000000013|  male|80s|  Korea|   Seoul|   Jongno-gu|contact with patient| 1000000017|           117|              null|    2020-02-16|         null|         null|deceased|\n",
            "|1000000014|female|60s|  Korea|   Seoul|   Jongno-gu|contact with patient| 1000000013|            27|        2020-02-06|    2020-02-16|   2020-03-12|         null|released|\n",
            "|1000000015|  male|70s|  Korea|   Seoul|Seongdong-gu|    Seongdong-gu APT|       null|             8|        2020-02-11|    2020-02-19|         null|         null|released|\n",
            "|1000000016|  male|70s|  Korea|   Seoul|   Jongno-gu|contact with patient| 1000000017|          null|              null|    2020-02-19|   2020-03-11|         null|released|\n",
            "|1000000017|  male|70s|  Korea|   Seoul|   Jongno-gu|contact with patient| 1000000003|          null|              null|    2020-02-20|   2020-03-01|         null|released|\n",
            "|1000000018|  male|20s|  Korea|   Seoul|         etc|                 etc|       null|          null|              null|    2020-02-20|         null|         null|released|\n",
            "|1000000019|female|70s|  Korea|   Seoul|   Jongno-gu|contact with patient| 1000000021|          null|              null|    2020-02-20|   2020-03-08|         null|released|\n",
            "|1000000020|female|70s|  Korea|   Seoul|Seongdong-gu|    Seongdong-gu APT| 1000000015|          null|              null|    2020-02-20|         null|         null|released|\n",
            "+----------+------+---+-------+--------+------------+--------------------+-----------+--------------+------------------+--------------+-------------+-------------+--------+\n",
            "only showing top 20 rows\n",
            "\n"
          ]
        }
      ],
      "source": [
        "spark.sql('select * from tableview').show()"
      ]
    },
    {
      "cell_type": "markdown",
      "id": "e0da4318",
      "metadata": {
        "id": "e0da4318"
      },
      "source": [
        "### *Using SQL commands*, limit the output to only 5 rows "
      ]
    },
    {
      "cell_type": "code",
      "execution_count": 48,
      "id": "97911bdd",
      "metadata": {
        "id": "97911bdd",
        "colab": {
          "base_uri": "https://localhost:8080/"
        },
        "outputId": "a742910d-e2e2-4ea3-c924-231aabda9faa"
      },
      "outputs": [
        {
          "output_type": "stream",
          "name": "stdout",
          "text": [
            "+----------+------+---+-------+--------+-----------+--------------------+-----------+--------------+------------------+--------------+-------------+-------------+--------+\n",
            "|patient_id|   sex|age|country|province|       city|      infection_case|infected_by|contact_number|symptom_onset_date|confirmed_date|released_date|deceased_date|   state|\n",
            "+----------+------+---+-------+--------+-----------+--------------------+-----------+--------------+------------------+--------------+-------------+-------------+--------+\n",
            "|1000000001|  male|50s|  Korea|   Seoul| Gangseo-gu|     overseas inflow|       null|            75|        2020-01-22|    2020-01-23|   2020-02-05|         null|released|\n",
            "|1000000002|  male|30s|  Korea|   Seoul|Jungnang-gu|     overseas inflow|       null|            31|              null|    2020-01-30|   2020-03-02|         null|released|\n",
            "|1000000003|  male|50s|  Korea|   Seoul|  Jongno-gu|contact with patient| 2002000001|            17|              null|    2020-01-30|   2020-02-19|         null|released|\n",
            "|1000000004|  male|20s|  Korea|   Seoul|    Mapo-gu|     overseas inflow|       null|             9|        2020-01-26|    2020-01-30|   2020-02-15|         null|released|\n",
            "|1000000005|female|20s|  Korea|   Seoul|Seongbuk-gu|contact with patient| 1000000002|             2|              null|    2020-01-31|   2020-02-24|         null|released|\n",
            "+----------+------+---+-------+--------+-----------+--------------------+-----------+--------------+------------------+--------------+-------------+-------------+--------+\n",
            "\n"
          ]
        }
      ],
      "source": [
        "spark.sql('select * from tableview limit 5').show()"
      ]
    },
    {
      "cell_type": "markdown",
      "id": "b70edf17",
      "metadata": {
        "id": "b70edf17"
      },
      "source": [
        "### Select the count of males and females in the dataset"
      ]
    },
    {
      "cell_type": "code",
      "execution_count": 66,
      "id": "00e9fd65",
      "metadata": {
        "id": "00e9fd65",
        "colab": {
          "base_uri": "https://localhost:8080/"
        },
        "outputId": "10f05eae-7921-47db-c8eb-75178df1c80b"
      },
      "outputs": [
        {
          "output_type": "stream",
          "name": "stdout",
          "text": [
            "+----------+\n",
            "|count(sex)|\n",
            "+----------+\n",
            "|      1825|\n",
            "+----------+\n",
            "\n"
          ]
        }
      ],
      "source": [
        "#count of males\n",
        "spark.sql(\"select Count(sex) from tableview where sex='male'\").show()"
      ]
    },
    {
      "cell_type": "code",
      "source": [
        "#count of female\n",
        "spark.sql(\"select Count(sex) from tableview where sex='female'\").show()"
      ],
      "metadata": {
        "colab": {
          "base_uri": "https://localhost:8080/"
        },
        "id": "MJCLLGpAYbZC",
        "outputId": "43f53416-e1f5-47df-9c6c-5986375d2c5e"
      },
      "id": "MJCLLGpAYbZC",
      "execution_count": 67,
      "outputs": [
        {
          "output_type": "stream",
          "name": "stdout",
          "text": [
            "+----------+\n",
            "|count(sex)|\n",
            "+----------+\n",
            "|      2218|\n",
            "+----------+\n",
            "\n"
          ]
        }
      ]
    },
    {
      "cell_type": "markdown",
      "id": "73683674",
      "metadata": {
        "id": "73683674"
      },
      "source": [
        "### How many people did survive, and how many didn't?"
      ]
    },
    {
      "cell_type": "code",
      "execution_count": 68,
      "id": "1e5a3908",
      "metadata": {
        "id": "1e5a3908",
        "colab": {
          "base_uri": "https://localhost:8080/"
        },
        "outputId": "9d22f087-f7e1-489f-db24-51799e9b951a"
      },
      "outputs": [
        {
          "output_type": "stream",
          "name": "stdout",
          "text": [
            "+------------+\n",
            "|count(state)|\n",
            "+------------+\n",
            "|        2929|\n",
            "+------------+\n",
            "\n"
          ]
        }
      ],
      "source": [
        "#number of survive\n",
        "spark.sql(\"select Count(state) from tableview where state='released'\").show()"
      ]
    },
    {
      "cell_type": "code",
      "source": [
        "#number of  Not survive\n",
        "spark.sql(\"select Count(state) from tableview where state='isolated' or state='deceased' \").show()"
      ],
      "metadata": {
        "colab": {
          "base_uri": "https://localhost:8080/"
        },
        "id": "i5P4PUWqZH9h",
        "outputId": "7730840e-ae75-4782-e9c4-dff01b7f69b8"
      },
      "id": "i5P4PUWqZH9h",
      "execution_count": 69,
      "outputs": [
        {
          "output_type": "stream",
          "name": "stdout",
          "text": [
            "+------------+\n",
            "|count(state)|\n",
            "+------------+\n",
            "|        2236|\n",
            "+------------+\n",
            "\n"
          ]
        }
      ]
    },
    {
      "cell_type": "markdown",
      "id": "d4424228",
      "metadata": {
        "id": "d4424228"
      },
      "source": [
        "### Now, let's perform some preprocessing using SQL:\n",
        "1. Convert *age* column to double after removing the 's' at the end -- *hint: check SUBSTRING method*\n",
        "2. Select only the following columns: `['sex', 'age', 'province', 'state']`\n",
        "3. Store the result of the query in a new dataframe"
      ]
    },
    {
      "cell_type": "code",
      "execution_count": 94,
      "id": "16994e4d",
      "metadata": {
        "id": "16994e4d"
      },
      "outputs": [],
      "source": [
        "df_sql=df.withColumn('age',substring('age',1,2))\n"
      ]
    },
    {
      "cell_type": "code",
      "execution_count": 95,
      "id": "d3cf4f0f",
      "metadata": {
        "scrolled": true,
        "id": "d3cf4f0f",
        "colab": {
          "base_uri": "https://localhost:8080/"
        },
        "outputId": "908843b5-e291-4983-a9ae-37a3278d153b"
      },
      "outputs": [
        {
          "output_type": "stream",
          "name": "stdout",
          "text": [
            "+----------+------+---+-------+--------+------------+--------------------+-----------+--------------+------------------+--------------+-------------+-------------+--------+\n",
            "|patient_id|   sex|age|country|province|        city|      infection_case|infected_by|contact_number|symptom_onset_date|confirmed_date|released_date|deceased_date|   state|\n",
            "+----------+------+---+-------+--------+------------+--------------------+-----------+--------------+------------------+--------------+-------------+-------------+--------+\n",
            "|1000000001|  male| 50|  Korea|   Seoul|  Gangseo-gu|     overseas inflow|       null|            75|        2020-01-22|    2020-01-23|   2020-02-05|         null|released|\n",
            "|1000000002|  male| 30|  Korea|   Seoul| Jungnang-gu|     overseas inflow|       null|            31|              null|    2020-01-30|   2020-03-02|         null|released|\n",
            "|1000000003|  male| 50|  Korea|   Seoul|   Jongno-gu|contact with patient| 2002000001|            17|              null|    2020-01-30|   2020-02-19|         null|released|\n",
            "|1000000004|  male| 20|  Korea|   Seoul|     Mapo-gu|     overseas inflow|       null|             9|        2020-01-26|    2020-01-30|   2020-02-15|         null|released|\n",
            "|1000000005|female| 20|  Korea|   Seoul| Seongbuk-gu|contact with patient| 1000000002|             2|              null|    2020-01-31|   2020-02-24|         null|released|\n",
            "|1000000006|female| 50|  Korea|   Seoul|   Jongno-gu|contact with patient| 1000000003|            43|              null|    2020-01-31|   2020-02-19|         null|released|\n",
            "|1000000007|  male| 20|  Korea|   Seoul|   Jongno-gu|contact with patient| 1000000003|             0|              null|    2020-01-31|   2020-02-10|         null|released|\n",
            "|1000000008|  male| 20|  Korea|   Seoul|         etc|     overseas inflow|       null|             0|              null|    2020-02-02|   2020-02-24|         null|released|\n",
            "|1000000009|  male| 30|  Korea|   Seoul|   Songpa-gu|     overseas inflow|       null|            68|              null|    2020-02-05|   2020-02-21|         null|released|\n",
            "|1000000010|female| 60|  Korea|   Seoul| Seongbuk-gu|contact with patient| 1000000003|             6|              null|    2020-02-05|   2020-02-29|         null|released|\n",
            "|1000000011|female| 50|  China|   Seoul|Seodaemun-gu|     overseas inflow|       null|            23|              null|    2020-02-06|   2020-02-29|         null|released|\n",
            "|1000000012|  male| 20|  Korea|   Seoul|         etc|     overseas inflow|       null|             0|              null|    2020-02-07|   2020-02-27|         null|released|\n",
            "|1000000013|  male| 80|  Korea|   Seoul|   Jongno-gu|contact with patient| 1000000017|           117|              null|    2020-02-16|         null|         null|deceased|\n",
            "|1000000014|female| 60|  Korea|   Seoul|   Jongno-gu|contact with patient| 1000000013|            27|        2020-02-06|    2020-02-16|   2020-03-12|         null|released|\n",
            "|1000000015|  male| 70|  Korea|   Seoul|Seongdong-gu|    Seongdong-gu APT|       null|             8|        2020-02-11|    2020-02-19|         null|         null|released|\n",
            "|1000000016|  male| 70|  Korea|   Seoul|   Jongno-gu|contact with patient| 1000000017|          null|              null|    2020-02-19|   2020-03-11|         null|released|\n",
            "|1000000017|  male| 70|  Korea|   Seoul|   Jongno-gu|contact with patient| 1000000003|          null|              null|    2020-02-20|   2020-03-01|         null|released|\n",
            "|1000000018|  male| 20|  Korea|   Seoul|         etc|                 etc|       null|          null|              null|    2020-02-20|         null|         null|released|\n",
            "|1000000019|female| 70|  Korea|   Seoul|   Jongno-gu|contact with patient| 1000000021|          null|              null|    2020-02-20|   2020-03-08|         null|released|\n",
            "|1000000020|female| 70|  Korea|   Seoul|Seongdong-gu|    Seongdong-gu APT| 1000000015|          null|              null|    2020-02-20|         null|         null|released|\n",
            "+----------+------+---+-------+--------+------------+--------------------+-----------+--------------+------------------+--------------+-------------+-------------+--------+\n",
            "only showing top 20 rows\n",
            "\n"
          ]
        }
      ],
      "source": [
        "df_sql.show()"
      ]
    },
    {
      "cell_type": "code",
      "execution_count": 97,
      "id": "791ec1b8",
      "metadata": {
        "id": "791ec1b8"
      },
      "outputs": [],
      "source": [
        "df_sql=df_sql.withColumn(\"age\",df_sql.age.cast(DoubleType()))"
      ]
    },
    {
      "cell_type": "code",
      "execution_count": 98,
      "id": "61c70bc8",
      "metadata": {
        "id": "61c70bc8"
      },
      "outputs": [],
      "source": [
        "df_sql.createOrReplaceTempView('tableview1')"
      ]
    },
    {
      "cell_type": "code",
      "source": [
        "df_new=spark.sql(\"select sex, age, province, state from tableview1\")"
      ],
      "metadata": {
        "id": "JOlHqk99iAs-"
      },
      "id": "JOlHqk99iAs-",
      "execution_count": 103,
      "outputs": []
    },
    {
      "cell_type": "code",
      "source": [
        "df_new.show(5)"
      ],
      "metadata": {
        "colab": {
          "base_uri": "https://localhost:8080/"
        },
        "id": "JUkV8lPcijtO",
        "outputId": "09676044-ade0-4b31-8762-9433af02e28e"
      },
      "id": "JUkV8lPcijtO",
      "execution_count": 104,
      "outputs": [
        {
          "output_type": "stream",
          "name": "stdout",
          "text": [
            "+------+----+--------+--------+\n",
            "|   sex| age|province|   state|\n",
            "+------+----+--------+--------+\n",
            "|  male|50.0|   Seoul|released|\n",
            "|  male|30.0|   Seoul|released|\n",
            "|  male|50.0|   Seoul|released|\n",
            "|  male|20.0|   Seoul|released|\n",
            "|female|20.0|   Seoul|released|\n",
            "+------+----+--------+--------+\n",
            "only showing top 5 rows\n",
            "\n"
          ]
        }
      ]
    },
    {
      "cell_type": "markdown",
      "id": "d4a24c24",
      "metadata": {
        "id": "d4a24c24"
      },
      "source": [
        "## Machine Learning \n",
        "### Create a pipeline model to predict is_dead and evaluate the performance.\n",
        "- Use <b>StringIndexer</b> to transform <b>string</b> data type to indices.\n",
        "- Use <b>OneHotEncoder</b> to deal with categorical values.\n",
        "- Use <b>Imputer</b> to fill missing data with mean."
      ]
    },
    {
      "cell_type": "code",
      "execution_count": 105,
      "id": "7a71806f",
      "metadata": {
        "id": "7a71806f"
      },
      "outputs": [],
      "source": [
        "from pyspark.ml.feature import StringIndexer, OneHotEncoder\n",
        "from pyspark.ml.feature import VectorAssembler"
      ]
    },
    {
      "cell_type": "code",
      "source": [
        "df9.show()"
      ],
      "metadata": {
        "id": "FBPMN8Ves7x7",
        "outputId": "95337e9f-4203-4407-e721-9420048fce8a",
        "colab": {
          "base_uri": "https://localhost:8080/"
        }
      },
      "id": "FBPMN8Ves7x7",
      "execution_count": 106,
      "outputs": [
        {
          "output_type": "stream",
          "name": "stdout",
          "text": [
            "+----+--------+-------+-------+\n",
            "| age|province|is_male|is_dead|\n",
            "+----+--------+-------+-------+\n",
            "|50.0|   Seoul|   true|  false|\n",
            "|30.0|   Seoul|   true|  false|\n",
            "|50.0|   Seoul|   true|  false|\n",
            "|20.0|   Seoul|   true|  false|\n",
            "|20.0|   Seoul|  false|  false|\n",
            "|50.0|   Seoul|  false|  false|\n",
            "|20.0|   Seoul|   true|  false|\n",
            "|20.0|   Seoul|   true|  false|\n",
            "|30.0|   Seoul|   true|  false|\n",
            "|60.0|   Seoul|  false|  false|\n",
            "|50.0|   Seoul|  false|  false|\n",
            "|20.0|   Seoul|   true|  false|\n",
            "|80.0|   Seoul|   true|   true|\n",
            "|60.0|   Seoul|  false|  false|\n",
            "|70.0|   Seoul|   true|  false|\n",
            "|70.0|   Seoul|   true|  false|\n",
            "|70.0|   Seoul|   true|  false|\n",
            "|20.0|   Seoul|   true|  false|\n",
            "|70.0|   Seoul|  false|  false|\n",
            "|70.0|   Seoul|  false|  false|\n",
            "+----+--------+-------+-------+\n",
            "only showing top 20 rows\n",
            "\n"
          ]
        }
      ]
    },
    {
      "cell_type": "code",
      "source": [
        ""
      ],
      "metadata": {
        "id": "ECTG2x-EjkTs"
      },
      "id": "ECTG2x-EjkTs",
      "execution_count": null,
      "outputs": []
    },
    {
      "cell_type": "markdown",
      "source": [
        "convert is_dead to number labels"
      ],
      "metadata": {
        "id": "tjjtetgNjmu8"
      },
      "id": "tjjtetgNjmu8"
    },
    {
      "cell_type": "code",
      "source": [
        "udf_con=udf(lambda z:   1 if z==True else 0,IntegerType()) \n",
        "df10=df9.withColumn(\"is_dead\",udf_con(col(\"is_dead\")))"
      ],
      "metadata": {
        "id": "SgEnF9xmsI5i"
      },
      "id": "SgEnF9xmsI5i",
      "execution_count": 107,
      "outputs": []
    },
    {
      "cell_type": "code",
      "source": [
        "df10.show()"
      ],
      "metadata": {
        "id": "FbXJyMI20Brz",
        "outputId": "7d3bc7af-45ce-47d2-8be4-463c720aac81",
        "colab": {
          "base_uri": "https://localhost:8080/"
        }
      },
      "id": "FbXJyMI20Brz",
      "execution_count": 108,
      "outputs": [
        {
          "output_type": "stream",
          "name": "stdout",
          "text": [
            "+----+--------+-------+-------+\n",
            "| age|province|is_male|is_dead|\n",
            "+----+--------+-------+-------+\n",
            "|50.0|   Seoul|   true|      0|\n",
            "|30.0|   Seoul|   true|      0|\n",
            "|50.0|   Seoul|   true|      0|\n",
            "|20.0|   Seoul|   true|      0|\n",
            "|20.0|   Seoul|  false|      0|\n",
            "|50.0|   Seoul|  false|      0|\n",
            "|20.0|   Seoul|   true|      0|\n",
            "|20.0|   Seoul|   true|      0|\n",
            "|30.0|   Seoul|   true|      0|\n",
            "|60.0|   Seoul|  false|      0|\n",
            "|50.0|   Seoul|  false|      0|\n",
            "|20.0|   Seoul|   true|      0|\n",
            "|80.0|   Seoul|   true|      1|\n",
            "|60.0|   Seoul|  false|      0|\n",
            "|70.0|   Seoul|   true|      0|\n",
            "|70.0|   Seoul|   true|      0|\n",
            "|70.0|   Seoul|   true|      0|\n",
            "|20.0|   Seoul|   true|      0|\n",
            "|70.0|   Seoul|  false|      0|\n",
            "|70.0|   Seoul|  false|      0|\n",
            "+----+--------+-------+-------+\n",
            "only showing top 20 rows\n",
            "\n"
          ]
        }
      ]
    },
    {
      "cell_type": "markdown",
      "source": [
        "drop all missing data"
      ],
      "metadata": {
        "id": "1pEnu3wbj7kT"
      },
      "id": "1pEnu3wbj7kT"
    },
    {
      "cell_type": "code",
      "source": [
        "df11=df10.na.drop(how=\"any\")"
      ],
      "metadata": {
        "id": "WIr5r9ISz2Sr"
      },
      "id": "WIr5r9ISz2Sr",
      "execution_count": 109,
      "outputs": []
    },
    {
      "cell_type": "code",
      "source": [
        "df12=df11.withColumn(\"is_male\",udf_con(col(\"is_male\")))"
      ],
      "metadata": {
        "id": "3LzVIgu6vCRp"
      },
      "id": "3LzVIgu6vCRp",
      "execution_count": 110,
      "outputs": []
    },
    {
      "cell_type": "code",
      "source": [
        "df12.show()"
      ],
      "metadata": {
        "id": "pfBOZnScsLLC",
        "outputId": "b939fead-ab84-4070-c92e-aa1127585bc0",
        "colab": {
          "base_uri": "https://localhost:8080/"
        }
      },
      "id": "pfBOZnScsLLC",
      "execution_count": 111,
      "outputs": [
        {
          "output_type": "stream",
          "name": "stdout",
          "text": [
            "+----+--------+-------+-------+\n",
            "| age|province|is_male|is_dead|\n",
            "+----+--------+-------+-------+\n",
            "|50.0|   Seoul|      1|      0|\n",
            "|30.0|   Seoul|      1|      0|\n",
            "|50.0|   Seoul|      1|      0|\n",
            "|20.0|   Seoul|      1|      0|\n",
            "|20.0|   Seoul|      0|      0|\n",
            "|50.0|   Seoul|      0|      0|\n",
            "|20.0|   Seoul|      1|      0|\n",
            "|20.0|   Seoul|      1|      0|\n",
            "|30.0|   Seoul|      1|      0|\n",
            "|60.0|   Seoul|      0|      0|\n",
            "|50.0|   Seoul|      0|      0|\n",
            "|20.0|   Seoul|      1|      0|\n",
            "|80.0|   Seoul|      1|      1|\n",
            "|60.0|   Seoul|      0|      0|\n",
            "|70.0|   Seoul|      1|      0|\n",
            "|70.0|   Seoul|      1|      0|\n",
            "|70.0|   Seoul|      1|      0|\n",
            "|20.0|   Seoul|      1|      0|\n",
            "|70.0|   Seoul|      0|      0|\n",
            "|70.0|   Seoul|      0|      0|\n",
            "+----+--------+-------+-------+\n",
            "only showing top 20 rows\n",
            "\n"
          ]
        }
      ]
    },
    {
      "cell_type": "markdown",
      "source": [
        "know missing data info"
      ],
      "metadata": {
        "id": "nR3zzcmDkAyU"
      },
      "id": "nR3zzcmDkAyU"
    },
    {
      "cell_type": "code",
      "source": [
        "df11.select([count(when(col(c).isNull(), c)).alias(c) for c in df11.columns]\n",
        "   ).show()"
      ],
      "metadata": {
        "id": "QTssoZCIx38H",
        "outputId": "3a737f19-3e48-4624-9531-a4a699d05de8",
        "colab": {
          "base_uri": "https://localhost:8080/"
        }
      },
      "id": "QTssoZCIx38H",
      "execution_count": 112,
      "outputs": [
        {
          "output_type": "stream",
          "name": "stdout",
          "text": [
            "+---+--------+-------+-------+\n",
            "|age|province|is_male|is_dead|\n",
            "+---+--------+-------+-------+\n",
            "|  0|       0|      0|      0|\n",
            "+---+--------+-------+-------+\n",
            "\n"
          ]
        }
      ]
    },
    {
      "cell_type": "markdown",
      "source": [
        "seperate categorical data"
      ],
      "metadata": {
        "id": "y65F4y3nkHfz"
      },
      "id": "y65F4y3nkHfz"
    },
    {
      "cell_type": "code",
      "source": [
        "categoricalCols = [field for (field, dataType) in df9.dtypes\n",
        "                  if ((dataType == 'string')&(field!='is_dead'))]\n",
        "categoricalCols"
      ],
      "metadata": {
        "id": "urGKPoLypQ_9",
        "outputId": "7fa47280-561f-4165-908a-c2877f78c4ee",
        "colab": {
          "base_uri": "https://localhost:8080/"
        }
      },
      "id": "urGKPoLypQ_9",
      "execution_count": 113,
      "outputs": [
        {
          "output_type": "execute_result",
          "data": {
            "text/plain": [
              "['province']"
            ]
          },
          "metadata": {},
          "execution_count": 113
        }
      ]
    },
    {
      "cell_type": "code",
      "source": [
        "indexOutputCols = [x + \"_Index\" for x in categoricalCols]\n",
        "indexOutputCols"
      ],
      "metadata": {
        "id": "zkGFrYdtpa93",
        "outputId": "14c95934-152b-4c9d-a37a-2b3db85c7b48",
        "colab": {
          "base_uri": "https://localhost:8080/"
        }
      },
      "id": "zkGFrYdtpa93",
      "execution_count": 114,
      "outputs": [
        {
          "output_type": "execute_result",
          "data": {
            "text/plain": [
              "['province_Index']"
            ]
          },
          "metadata": {},
          "execution_count": 114
        }
      ]
    },
    {
      "cell_type": "code",
      "source": [
        "oheOutputCols = [x + \"_OHE\" for x in categoricalCols]\n",
        "oheOutputCols"
      ],
      "metadata": {
        "id": "0UYez4yBq3sF",
        "outputId": "cda1e5d3-29e3-4dc7-cf2d-df9dc979cbdd",
        "colab": {
          "base_uri": "https://localhost:8080/"
        }
      },
      "id": "0UYez4yBq3sF",
      "execution_count": 115,
      "outputs": [
        {
          "output_type": "execute_result",
          "data": {
            "text/plain": [
              "['province_OHE']"
            ]
          },
          "metadata": {},
          "execution_count": 115
        }
      ]
    },
    {
      "cell_type": "markdown",
      "source": [
        "StringIndexer "
      ],
      "metadata": {
        "id": "FQTMNX_RkQre"
      },
      "id": "FQTMNX_RkQre"
    },
    {
      "cell_type": "code",
      "source": [
        "stringIndexer = StringIndexer(inputCols=categoricalCols,\n",
        "                              outputCols=indexOutputCols,\n",
        "                             handleInvalid='skip')\n",
        "\n",
        "oheEncoder = OneHotEncoder(inputCols=indexOutputCols,\n",
        "                          outputCols=oheOutputCols)"
      ],
      "metadata": {
        "id": "SRzBVpY-qjkn"
      },
      "id": "SRzBVpY-qjkn",
      "execution_count": 116,
      "outputs": []
    },
    {
      "cell_type": "code",
      "source": [
        "assemblerInputs = oheOutputCols + ['is_male','age']\n",
        "assemblerInputs"
      ],
      "metadata": {
        "id": "LDuS1FHfq5-t",
        "outputId": "8bc0dda0-c19f-4bee-d419-a0aec0e6210a",
        "colab": {
          "base_uri": "https://localhost:8080/"
        }
      },
      "id": "LDuS1FHfq5-t",
      "execution_count": 117,
      "outputs": [
        {
          "output_type": "execute_result",
          "data": {
            "text/plain": [
              "['province_OHE', 'is_male', 'age']"
            ]
          },
          "metadata": {},
          "execution_count": 117
        }
      ]
    },
    {
      "cell_type": "code",
      "source": [
        "vecAssembler = VectorAssembler(inputCols=assemblerInputs,outputCol='features')"
      ],
      "metadata": {
        "id": "N-nf4065wQLg"
      },
      "id": "N-nf4065wQLg",
      "execution_count": 118,
      "outputs": []
    },
    {
      "cell_type": "markdown",
      "source": [
        "import libaries"
      ],
      "metadata": {
        "id": "_wgwEHYyknzQ"
      },
      "id": "_wgwEHYyknzQ"
    },
    {
      "cell_type": "code",
      "source": [
        "from pyspark.ml.classification import RandomForestClassifier\n",
        "from pyspark.ml.evaluation import MulticlassClassificationEvaluator\n",
        "from pyspark.ml import Pipeline"
      ],
      "metadata": {
        "id": "BcelU0yFwdbw"
      },
      "id": "BcelU0yFwdbw",
      "execution_count": 119,
      "outputs": []
    },
    {
      "cell_type": "markdown",
      "source": [
        "make model and pipline"
      ],
      "metadata": {
        "id": "MuCsEtgIkxTa"
      },
      "id": "MuCsEtgIkxTa"
    },
    {
      "cell_type": "code",
      "source": [
        "rf = RandomForestClassifier(labelCol='is_dead',featuresCol='features', numTrees=10)"
      ],
      "metadata": {
        "id": "Ld6La1ZW0Vp6"
      },
      "id": "Ld6La1ZW0Vp6",
      "execution_count": 120,
      "outputs": []
    },
    {
      "cell_type": "code",
      "source": [
        "pipeline = Pipeline(stages=[stringIndexer, oheEncoder, vecAssembler, rf ] )"
      ],
      "metadata": {
        "id": "aBv_wD5v06GL"
      },
      "id": "aBv_wD5v06GL",
      "execution_count": 121,
      "outputs": []
    },
    {
      "cell_type": "markdown",
      "source": [
        "split data to train and test"
      ],
      "metadata": {
        "id": "VkIpJOkUk1Xu"
      },
      "id": "VkIpJOkUk1Xu"
    },
    {
      "cell_type": "code",
      "source": [
        "(trainingData, testData) = df11.randomSplit([0.7, 0.3])"
      ],
      "metadata": {
        "id": "hOs2uvW-1WmM"
      },
      "id": "hOs2uvW-1WmM",
      "execution_count": 122,
      "outputs": []
    },
    {
      "cell_type": "code",
      "source": [
        "model = pipeline.fit(trainingData)"
      ],
      "metadata": {
        "id": "E0K1cWjT1jbp"
      },
      "id": "E0K1cWjT1jbp",
      "execution_count": 123,
      "outputs": []
    },
    {
      "cell_type": "markdown",
      "source": [
        ""
      ],
      "metadata": {
        "id": "eEZdpFnzk5FS"
      },
      "id": "eEZdpFnzk5FS"
    },
    {
      "cell_type": "code",
      "source": [
        "predicitions = model.transform(testData)"
      ],
      "metadata": {
        "id": "dSKR3qni2jLJ"
      },
      "id": "dSKR3qni2jLJ",
      "execution_count": 124,
      "outputs": []
    },
    {
      "cell_type": "code",
      "source": [
        "preds=predicitions.select('prediction')\n",
        "y=testData.select('is_dead')"
      ],
      "metadata": {
        "id": "GkmlgcVY3wCg"
      },
      "id": "GkmlgcVY3wCg",
      "execution_count": 125,
      "outputs": []
    },
    {
      "cell_type": "code",
      "source": [
        "pip install pandas"
      ],
      "metadata": {
        "id": "4KM5kq-O4CgA",
        "outputId": "94d71f60-4181-4c99-e8fd-4ea8987af4f8",
        "colab": {
          "base_uri": "https://localhost:8080/"
        }
      },
      "id": "4KM5kq-O4CgA",
      "execution_count": null,
      "outputs": [
        {
          "output_type": "stream",
          "name": "stdout",
          "text": [
            "Looking in indexes: https://pypi.org/simple, https://us-python.pkg.dev/colab-wheels/public/simple/\n",
            "Requirement already satisfied: pandas in /usr/local/lib/python3.7/dist-packages (1.3.5)\n",
            "Requirement already satisfied: numpy>=1.17.3 in /usr/local/lib/python3.7/dist-packages (from pandas) (1.21.6)\n",
            "Requirement already satisfied: python-dateutil>=2.7.3 in /usr/local/lib/python3.7/dist-packages (from pandas) (2.8.2)\n",
            "Requirement already satisfied: pytz>=2017.3 in /usr/local/lib/python3.7/dist-packages (from pandas) (2022.1)\n",
            "Requirement already satisfied: six>=1.5 in /usr/local/lib/python3.7/dist-packages (from python-dateutil>=2.7.3->pandas) (1.15.0)\n"
          ]
        }
      ]
    },
    {
      "cell_type": "code",
      "source": [
        "pip install sklearn"
      ],
      "metadata": {
        "id": "QcjkTXAS4GZX",
        "outputId": "b2bc8f1c-4a62-41a1-e292-17fd26ddbbd9",
        "colab": {
          "base_uri": "https://localhost:8080/"
        }
      },
      "id": "QcjkTXAS4GZX",
      "execution_count": null,
      "outputs": [
        {
          "output_type": "stream",
          "name": "stdout",
          "text": [
            "Looking in indexes: https://pypi.org/simple, https://us-python.pkg.dev/colab-wheels/public/simple/\n",
            "Requirement already satisfied: sklearn in /usr/local/lib/python3.7/dist-packages (0.0)\n",
            "Requirement already satisfied: scikit-learn in /usr/local/lib/python3.7/dist-packages (from sklearn) (1.0.2)\n",
            "Requirement already satisfied: numpy>=1.14.6 in /usr/local/lib/python3.7/dist-packages (from scikit-learn->sklearn) (1.21.6)\n",
            "Requirement already satisfied: threadpoolctl>=2.0.0 in /usr/local/lib/python3.7/dist-packages (from scikit-learn->sklearn) (3.1.0)\n",
            "Requirement already satisfied: scipy>=1.1.0 in /usr/local/lib/python3.7/dist-packages (from scikit-learn->sklearn) (1.4.1)\n",
            "Requirement already satisfied: joblib>=0.11 in /usr/local/lib/python3.7/dist-packages (from scikit-learn->sklearn) (1.1.0)\n"
          ]
        }
      ]
    },
    {
      "cell_type": "code",
      "source": [
        "preds_pd=preds.toPandas()\n",
        "y_pd=y.toPandas()"
      ],
      "metadata": {
        "id": "xhetQWGw2xSX"
      },
      "id": "xhetQWGw2xSX",
      "execution_count": 126,
      "outputs": []
    },
    {
      "cell_type": "code",
      "source": [
        "from sklearn.metrics import f1_score"
      ],
      "metadata": {
        "id": "7fFyJNnY3OeH"
      },
      "id": "7fFyJNnY3OeH",
      "execution_count": 127,
      "outputs": []
    },
    {
      "cell_type": "markdown",
      "source": [
        "accuracy"
      ],
      "metadata": {
        "id": "OnaRPHHNlACV"
      },
      "id": "OnaRPHHNlACV"
    },
    {
      "cell_type": "code",
      "source": [
        "f1_score(y_pd,preds_pd)"
      ],
      "metadata": {
        "id": "TbIm-ghO5Pct",
        "outputId": "c73f0ce6-a2b2-4477-b26c-1786fd546da0",
        "colab": {
          "base_uri": "https://localhost:8080/"
        }
      },
      "id": "TbIm-ghO5Pct",
      "execution_count": 129,
      "outputs": [
        {
          "output_type": "execute_result",
          "data": {
            "text/plain": [
              "0.8285714285714286"
            ]
          },
          "metadata": {},
          "execution_count": 129
        }
      ]
    }
  ],
  "metadata": {
    "kernelspec": {
      "display_name": "Python 3 (ipykernel)",
      "language": "python",
      "name": "python3"
    },
    "language_info": {
      "codemirror_mode": {
        "name": "ipython",
        "version": 3
      },
      "file_extension": ".py",
      "mimetype": "text/x-python",
      "name": "python",
      "nbconvert_exporter": "python",
      "pygments_lexer": "ipython3",
      "version": "3.9.12"
    },
    "colab": {
      "name": "abdelrhman_Practical_Day_1_DF_SQL_ML.ipynb",
      "provenance": [],
      "collapsed_sections": []
    }
  },
  "nbformat": 4,
  "nbformat_minor": 5
}