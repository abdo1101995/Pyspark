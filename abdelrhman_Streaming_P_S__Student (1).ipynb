{
  "cells": [
    {
      "cell_type": "code",
      "source": [
        "pip install pyspark"
      ],
      "metadata": {
        "colab": {
          "base_uri": "https://localhost:8080/"
        },
        "id": "g2fkgtqrgVhE",
        "outputId": "f774d202-4ab8-4e90-ae3b-94becbc456a1"
      },
      "id": "g2fkgtqrgVhE",
      "execution_count": 1,
      "outputs": [
        {
          "output_type": "stream",
          "name": "stdout",
          "text": [
            "Looking in indexes: https://pypi.org/simple, https://us-python.pkg.dev/colab-wheels/public/simple/\n",
            "Requirement already satisfied: pyspark in /usr/local/lib/python3.7/dist-packages (3.3.0)\n",
            "Requirement already satisfied: py4j==0.10.9.5 in /usr/local/lib/python3.7/dist-packages (from pyspark) (0.10.9.5)\n"
          ]
        }
      ]
    },
    {
      "cell_type": "code",
      "execution_count": 2,
      "id": "60f97978",
      "metadata": {
        "id": "60f97978"
      },
      "outputs": [],
      "source": [
        "import pyspark\n",
        "from pyspark.sql import SparkSession\n",
        "from pyspark.sql.types import StringType, IntegerType , DoubleType, DateType,StructType,StructField"
      ]
    },
    {
      "cell_type": "code",
      "source": [
        "spark=SparkSession.builder.appName(\"streamspark\").getOrCreate()"
      ],
      "metadata": {
        "id": "7X_4NEdGisxS"
      },
      "id": "7X_4NEdGisxS",
      "execution_count": 3,
      "outputs": []
    },
    {
      "cell_type": "code",
      "execution_count": 4,
      "id": "201cee8c",
      "metadata": {
        "colab": {
          "base_uri": "https://localhost:8080/",
          "height": 17
        },
        "id": "201cee8c",
        "outputId": "b56aaab9-793d-4e8f-bc53-e64a1d77de97"
      },
      "outputs": [
        {
          "output_type": "display_data",
          "data": {
            "text/plain": [
              "<IPython.core.display.HTML object>"
            ],
            "text/html": [
              "<style>pre { white-space: pre !important; }</style>"
            ]
          },
          "metadata": {}
        }
      ],
      "source": [
        "from IPython.display import display, HTML\n",
        "display(HTML(\"<style>pre { white-space: pre !important; }</style>\"))"
      ]
    },
    {
      "cell_type": "code",
      "source": [
        "sample_df= spark.read.format('csv')\\\n",
        ".option(\"header\", \"true\")\\\n",
        ".option('infereSchema', 'true')\\\n",
        ".load(\"/content/sample_data/kospi/KOSPI_STOCK_1.csv\")"
      ],
      "metadata": {
        "id": "hCctzuhhjOKj"
      },
      "id": "hCctzuhhjOKj",
      "execution_count": 6,
      "outputs": []
    },
    {
      "cell_type": "markdown",
      "id": "efac8040",
      "metadata": {
        "id": "efac8040"
      },
      "source": [
        "### Create the schema of the streamed files (check the column names and types from the CSV files)"
      ]
    },
    {
      "cell_type": "code",
      "source": [
        "sample_df.show(3)"
      ],
      "metadata": {
        "colab": {
          "base_uri": "https://localhost:8080/"
        },
        "id": "nV5rpKRjoDOU",
        "outputId": "440bf43d-8f82-4b4b-f932-bb4c717e1aa1"
      },
      "id": "nV5rpKRjoDOU",
      "execution_count": 7,
      "outputs": [
        {
          "output_type": "stream",
          "name": "stdout",
          "text": [
            "+---+----------+------------+------------+------------+------------+------------+------+\n",
            "|_c0|      Date|        Open|        High|         Low|       Close|   Adj Close|Volume|\n",
            "+---+----------+------------+------------+------------+------------+------------+------+\n",
            "| 40|2000-02-29|25163.699219|26087.699219|24239.599609|25519.099609|24115.490234|233246|\n",
            "| 41|2000-03-01|25519.099609|25519.099609|25519.099609|25519.099609|24115.490234|     0|\n",
            "| 42|2000-03-02|25767.900391|29144.300781|25767.900391|28575.699219|27003.972656|408391|\n",
            "+---+----------+------------+------------+------------+------------+------------+------+\n",
            "only showing top 3 rows\n",
            "\n"
          ]
        }
      ]
    },
    {
      "cell_type": "code",
      "source": [
        "sample_df.printSchema()"
      ],
      "metadata": {
        "colab": {
          "base_uri": "https://localhost:8080/"
        },
        "id": "aOOhR3Aljcch",
        "outputId": "ad6640fc-869a-45f8-a46b-d121d0485079"
      },
      "id": "aOOhR3Aljcch",
      "execution_count": 8,
      "outputs": [
        {
          "output_type": "stream",
          "name": "stdout",
          "text": [
            "root\n",
            " |-- _c0: string (nullable = true)\n",
            " |-- Date: string (nullable = true)\n",
            " |-- Open: string (nullable = true)\n",
            " |-- High: string (nullable = true)\n",
            " |-- Low: string (nullable = true)\n",
            " |-- Close: string (nullable = true)\n",
            " |-- Adj Close: string (nullable = true)\n",
            " |-- Volume: string (nullable = true)\n",
            "\n"
          ]
        }
      ]
    },
    {
      "cell_type": "code",
      "execution_count": 9,
      "id": "c4674d5d",
      "metadata": {
        "id": "c4674d5d"
      },
      "outputs": [],
      "source": [
        "new_schema=StructType([StructField('ID', IntegerType(), True),\n",
        "                           StructField('Date', DateType(), True),\n",
        "                           StructField('Open', DoubleType(), True),\n",
        "                           StructField('High', DoubleType(), True),\n",
        "                           StructField('Low', DoubleType(), True),\n",
        "                           StructField('Adj', DoubleType(), True),\n",
        "                           StructField('Close', DoubleType(), True),\n",
        "                           StructField('Volume', IntegerType(), True)])"
      ]
    },
    {
      "cell_type": "markdown",
      "id": "4f50fbeb",
      "metadata": {
        "id": "4f50fbeb"
      },
      "source": [
        "### Create the dataframe by reading the stream using format \"csv\" and the schema you created."
      ]
    },
    {
      "cell_type": "code",
      "execution_count": 10,
      "id": "d77671b2",
      "metadata": {
        "id": "d77671b2"
      },
      "outputs": [],
      "source": [
        "new_df=spark.readStream.format('csv')\\\n",
        ".schema(new_schema)\\\n",
        ".load(\"/content/sample_data/kospi\")\n"
      ]
    },
    {
      "cell_type": "markdown",
      "id": "ce1e0e44",
      "metadata": {
        "id": "ce1e0e44"
      },
      "source": [
        "### Make sure the sataframe is streaming the files from the folder"
      ]
    },
    {
      "cell_type": "code",
      "execution_count": 11,
      "id": "0fc0fa13",
      "metadata": {
        "colab": {
          "base_uri": "https://localhost:8080/"
        },
        "id": "0fc0fa13",
        "outputId": "034db0e9-4399-49a9-f2bc-afe597e2123c"
      },
      "outputs": [
        {
          "output_type": "execute_result",
          "data": {
            "text/plain": [
              "True"
            ]
          },
          "metadata": {},
          "execution_count": 11
        }
      ],
      "source": [
        "new_df.isStreaming"
      ]
    },
    {
      "cell_type": "code",
      "source": [
        "new_df.printSchema()"
      ],
      "metadata": {
        "colab": {
          "base_uri": "https://localhost:8080/"
        },
        "id": "3r-WMLcSqa8T",
        "outputId": "dbb2cefc-dd6f-4750-dc20-9998a07496df"
      },
      "id": "3r-WMLcSqa8T",
      "execution_count": 12,
      "outputs": [
        {
          "output_type": "stream",
          "name": "stdout",
          "text": [
            "root\n",
            " |-- ID: integer (nullable = true)\n",
            " |-- Date: date (nullable = true)\n",
            " |-- Open: double (nullable = true)\n",
            " |-- High: double (nullable = true)\n",
            " |-- Low: double (nullable = true)\n",
            " |-- Adj: double (nullable = true)\n",
            " |-- Close: double (nullable = true)\n",
            " |-- Volume: integer (nullable = true)\n",
            "\n"
          ]
        }
      ]
    },
    {
      "cell_type": "markdown",
      "id": "ac9d68de",
      "metadata": {
        "id": "ac9d68de"
      },
      "source": [
        "### Create a stream writer into memory and specify the query name \"stock:"
      ]
    },
    {
      "cell_type": "code",
      "execution_count": 13,
      "id": "f40bf944",
      "metadata": {
        "id": "f40bf944"
      },
      "outputs": [],
      "source": [
        "stream_writer=new_df.writeStream.outputMode('append')\\\n",
        "            .format('memory')\\\n",
        "            .queryName('stock')"
      ]
    },
    {
      "cell_type": "markdown",
      "id": "63a5f9a4",
      "metadata": {
        "id": "63a5f9a4"
      },
      "source": [
        "### Start the write stream and make sure it works (read all columns from the table)"
      ]
    },
    {
      "cell_type": "code",
      "source": [
        "query = stream_writer.start('stock')"
      ],
      "metadata": {
        "id": "CQUjvbxrr8VI"
      },
      "id": "CQUjvbxrr8VI",
      "execution_count": 14,
      "outputs": []
    },
    {
      "cell_type": "code",
      "execution_count": 15,
      "id": "0d98c6dc",
      "metadata": {
        "id": "0d98c6dc",
        "colab": {
          "base_uri": "https://localhost:8080/"
        },
        "outputId": "92cf347a-c6ae-44d5-d41c-bbc719a5c119"
      },
      "outputs": [
        {
          "output_type": "stream",
          "name": "stdout",
          "text": [
            "+----+----------+------------+------------+------------+------------+------------+------+\n",
            "|  ID|      Date|        Open|        High|         Low|         Adj|       Close|Volume|\n",
            "+----+----------+------------+------------+------------+------------+------------+------+\n",
            "|null|      null|        null|        null|        null|        null|        null|  null|\n",
            "| 240|2000-12-05|26585.300781|27367.300781|26372.099609|27011.800781|25526.091797| 91019|\n",
            "| 241|2000-12-06|27011.800781|27509.400391|26798.599609|26869.699219|25391.804688|105791|\n",
            "| 242|2000-12-07|27011.800781|27011.800781|26478.699219|26656.400391|25190.236328| 40656|\n",
            "| 243|2000-12-08|26656.400391|27722.699219|26656.400391|27651.599609|26130.699219|149964|\n",
            "| 244|2000-12-11|27687.099609|     28860.0|27651.599609|28078.099609|26533.740234|159671|\n",
            "| 245|2000-12-12|28042.599609|28078.099609|27438.300781|27935.900391|26399.361328| 74560|\n",
            "| 246|2000-12-13|27651.599609|     29286.5|27651.599609|28469.099609|26903.234375|270385|\n",
            "| 247|2000-12-14|28469.099609|29784.099609|28291.300781|28362.400391| 26802.40625|256317|\n",
            "| 248|2000-12-15|28362.400391|28895.599609|27793.800781|27935.900391|26399.361328|108886|\n",
            "+----+----------+------------+------------+------------+------------+------------+------+\n",
            "only showing top 10 rows\n",
            "\n"
          ]
        }
      ],
      "source": [
        "spark.sql('select * from stock').show(10)"
      ]
    },
    {
      "cell_type": "code",
      "execution_count": 31,
      "id": "27bebb21",
      "metadata": {
        "colab": {
          "base_uri": "https://localhost:8080/"
        },
        "id": "27bebb21",
        "outputId": "29a8feec-0f1e-4af2-fade-b74c51914dcc"
      },
      "outputs": [
        {
          "output_type": "stream",
          "name": "stdout",
          "text": [
            "+----+----------+------------+------------+------------+------------+------------+------+\n",
            "|  ID|      Date|        Open|        High|         Low|         Adj|       Close|Volume|\n",
            "+----+----------+------------+------------+------------+------------+------------+------+\n",
            "|null|      null|        null|        null|        null|        null|        null|  null|\n",
            "| 240|2000-12-05|26585.300781|27367.300781|26372.099609|27011.800781|25526.091797| 91019|\n",
            "| 241|2000-12-06|27011.800781|27509.400391|26798.599609|26869.699219|25391.804688|105791|\n",
            "| 242|2000-12-07|27011.800781|27011.800781|26478.699219|26656.400391|25190.236328| 40656|\n",
            "| 243|2000-12-08|26656.400391|27722.699219|26656.400391|27651.599609|26130.699219|149964|\n",
            "| 244|2000-12-11|27687.099609|     28860.0|27651.599609|28078.099609|26533.740234|159671|\n",
            "| 245|2000-12-12|28042.599609|28078.099609|27438.300781|27935.900391|26399.361328| 74560|\n",
            "| 246|2000-12-13|27651.599609|     29286.5|27651.599609|28469.099609|26903.234375|270385|\n",
            "| 247|2000-12-14|28469.099609|29784.099609|28291.300781|28362.400391| 26802.40625|256317|\n",
            "| 248|2000-12-15|28362.400391|28895.599609|27793.800781|27935.900391|26399.361328|108886|\n",
            "+----+----------+------------+------------+------------+------------+------------+------+\n",
            "only showing top 10 rows\n",
            "\n"
          ]
        }
      ],
      "source": [
        ""
      ]
    },
    {
      "cell_type": "markdown",
      "id": "16908fa6",
      "metadata": {
        "id": "16908fa6"
      },
      "source": [
        "### Remove the first row from the data (hint: drop the rows where ALL values are null), then add a new column \"diff\", which is the difference between high and low columns"
      ]
    },
    {
      "cell_type": "code",
      "execution_count": 16,
      "id": "9f2eaa25",
      "metadata": {
        "id": "9f2eaa25"
      },
      "outputs": [],
      "source": [
        "df2=new_df.dropna(how='all')"
      ]
    },
    {
      "cell_type": "code",
      "source": [
        ""
      ],
      "metadata": {
        "id": "MW7whAS9tcgw"
      },
      "id": "MW7whAS9tcgw",
      "execution_count": 45,
      "outputs": []
    },
    {
      "cell_type": "code",
      "source": [
        "modified_data=df2.withColumn(\"diff\",df2['high']-df2['low'])"
      ],
      "metadata": {
        "id": "A-ndEIgMp_O1"
      },
      "id": "A-ndEIgMp_O1",
      "execution_count": 17,
      "outputs": []
    },
    {
      "cell_type": "markdown",
      "id": "1f14581b",
      "metadata": {
        "id": "1f14581b"
      },
      "source": [
        "### Create a new write stream using the new generated dataframe and call the generate table \"modified_data\""
      ]
    },
    {
      "cell_type": "code",
      "execution_count": 19,
      "id": "969acbbc",
      "metadata": {
        "id": "969acbbc"
      },
      "outputs": [],
      "source": [
        "stream_writer=modified_data.writeStream.outputMode('append')\\\n",
        "            .format('memory')\\\n",
        "            .queryName('stock')"
      ]
    },
    {
      "cell_type": "code",
      "execution_count": 20,
      "id": "b3bcedd4",
      "metadata": {
        "id": "b3bcedd4"
      },
      "outputs": [],
      "source": [
        "query.stop()"
      ]
    },
    {
      "cell_type": "code",
      "execution_count": 21,
      "id": "453fbe76",
      "metadata": {
        "id": "453fbe76"
      },
      "outputs": [],
      "source": [
        "query =stream_writer.start()"
      ]
    },
    {
      "cell_type": "code",
      "source": [
        "df3=spark.sql('select * from stock')"
      ],
      "metadata": {
        "id": "ac3eTzX0u7rg"
      },
      "id": "ac3eTzX0u7rg",
      "execution_count": 23,
      "outputs": []
    },
    {
      "cell_type": "code",
      "source": [
        ""
      ],
      "metadata": {
        "id": "cFrzgMssvaUG"
      },
      "id": "cFrzgMssvaUG",
      "execution_count": null,
      "outputs": []
    },
    {
      "cell_type": "markdown",
      "id": "e16c3036",
      "metadata": {
        "id": "e16c3036"
      },
      "source": [
        "### Write the generated data into files instead of the memory. "
      ]
    },
    {
      "cell_type": "code",
      "execution_count": 24,
      "id": "6441b76a",
      "metadata": {
        "id": "6441b76a"
      },
      "outputs": [],
      "source": [
        "df3.write.format('parquet').save('gen2')"
      ]
    },
    {
      "cell_type": "markdown",
      "id": "72f07e3f",
      "metadata": {
        "id": "72f07e3f"
      },
      "source": [
        "### Stop the query. Now, try reading the generated parquet files into a normal dataframe\n",
        "- Create a schema and use it to read the data.\n",
        "- Show the output."
      ]
    },
    {
      "cell_type": "code",
      "source": [
        "query.stop()"
      ],
      "metadata": {
        "id": "-5u9mpPhvu_t"
      },
      "id": "-5u9mpPhvu_t",
      "execution_count": 25,
      "outputs": []
    },
    {
      "cell_type": "code",
      "execution_count": 30,
      "id": "ec1321fe",
      "metadata": {
        "scrolled": false,
        "id": "ec1321fe"
      },
      "outputs": [],
      "source": [
        "finalDF= spark.read.parquet('gen2' , header = True)"
      ]
    },
    {
      "cell_type": "code",
      "execution_count": 31,
      "id": "c71ca2ae",
      "metadata": {
        "id": "c71ca2ae",
        "colab": {
          "base_uri": "https://localhost:8080/"
        },
        "outputId": "887d6f13-9f22-4537-819e-5e0f2b0ce8e5"
      },
      "outputs": [
        {
          "output_type": "stream",
          "name": "stdout",
          "text": [
            "+---+----------+------------+------------+------------+------------+------------+------+------------------+\n",
            "| ID|      Date|        Open|        High|         Low|         Adj|       Close|Volume|              diff|\n",
            "+---+----------+------------+------------+------------+------------+------------+------+------------------+\n",
            "|240|2000-12-05|26585.300781|27367.300781|26372.099609|27011.800781|25526.091797| 91019|  995.201172000001|\n",
            "|241|2000-12-06|27011.800781|27509.400391|26798.599609|26869.699219|25391.804688|105791| 710.8007819999984|\n",
            "|242|2000-12-07|27011.800781|27011.800781|26478.699219|26656.400391|25190.236328| 40656| 533.1015620000035|\n",
            "|243|2000-12-08|26656.400391|27722.699219|26656.400391|27651.599609|26130.699219|149964| 1066.298827999999|\n",
            "|244|2000-12-11|27687.099609|     28860.0|27651.599609|28078.099609|26533.740234|159671|1208.4003909999992|\n",
            "+---+----------+------------+------------+------------+------------+------------+------+------------------+\n",
            "only showing top 5 rows\n",
            "\n"
          ]
        }
      ],
      "source": [
        "finalDF.show(5)"
      ]
    },
    {
      "cell_type": "markdown",
      "id": "4814d697",
      "metadata": {
        "id": "4814d697"
      },
      "source": [
        "### Sort the dataframe based on the ID"
      ]
    },
    {
      "cell_type": "code",
      "execution_count": 32,
      "id": "c51d91a5",
      "metadata": {
        "id": "c51d91a5",
        "outputId": "7cc46234-59c7-4033-d5f1-b57f44ee923f",
        "colab": {
          "base_uri": "https://localhost:8080/"
        }
      },
      "outputs": [
        {
          "output_type": "stream",
          "name": "stdout",
          "text": [
            "+---+----------+------------+------------+------------+------------+------------+------+------------------+\n",
            "| ID|      Date|        Open|        High|         Low|         Adj|       Close|Volume|              diff|\n",
            "+---+----------+------------+------------+------------+------------+------------+------+------------------+\n",
            "|  0|2000-01-04|22817.900391|25696.800781|22817.900391|24879.300781|23510.880859|108745|2878.9003900000025|\n",
            "|  1|2000-01-05|24523.900391|26229.900391|23670.900391|24417.300781|23074.294922|175990|            2559.0|\n",
            "|  2|2000-01-06|24381.699219|24666.099609|22746.800781|22817.900391|21562.865234| 71746| 1919.298827999999|\n",
            "|  3|2000-01-07|     22036.0|24879.300781|     22036.0|23884.199219|22570.513672|120984|2843.3007810000017|\n",
            "|  4|2000-01-10|24879.300781|25519.099609|23813.099609|24061.900391|22738.439453|151371|            1706.0|\n",
            "|  5|2000-01-11|     24168.5|     25021.5|23955.199219|24239.599609|22906.365234| 95943|1066.3007810000017|\n",
            "|  6|2000-01-12|     24168.5|24452.800781|23457.599609|23670.900391|22368.947266| 61899|  995.201172000001|\n",
            "|  7|2000-01-13|23670.900391|24132.900391|23102.199219|23244.400391| 21965.90625| 57538| 1030.701172000001|\n",
            "|  8|2000-01-14|23457.599609|     24168.5|22746.800781|23244.400391| 21965.90625| 84267|1421.6992189999983|\n",
            "|  9|2000-01-17|22533.599609|23457.599609|22533.599609|23457.599609|22167.376953| 67807|             924.0|\n",
            "| 10|2000-01-18|23457.599609|     23742.0|22746.800781|23422.099609|22133.832031| 27995| 995.1992189999983|\n",
            "| 11|2000-01-19|22817.900391|23173.300781|     22036.0|     22036.0|20823.970703| 44173|1137.3007810000017|\n",
            "| 12|2000-01-20|21325.099609|22000.400391|     20756.5|21680.599609|20488.117188| 47550|1243.9003909999992|\n",
            "| 13|2000-01-21|21680.599609|22391.400391|20863.099609|21680.599609|20488.117188| 80750|1528.3007819999984|\n",
            "| 14|2000-01-24|20969.699219|21822.699219|20969.699219|20969.699219|19816.320313| 79906|             853.0|\n",
            "| 15|2000-01-25|20258.900391|20934.199219|     19548.0|20116.699219|19010.236328|170925|1386.1992189999983|\n",
            "| 16|2000-01-26|20223.300781|20543.199219|19761.300781|     20330.0|19211.804688| 59929| 781.8984379999965|\n",
            "| 17|2000-01-27|     20401.0|22746.800781|     20330.0|21040.800781|19883.511719|139132|2416.8007810000017|\n",
            "| 18|2000-01-28|21431.800781|22107.099609|21040.800781|21964.900391|20756.783203| 78640| 1066.298827999999|\n",
            "| 19|2000-01-31|21325.099609|21893.800781|     21183.0|21467.300781|20286.552734| 45861| 710.8007810000017|\n",
            "+---+----------+------------+------------+------------+------------+------------+------+------------------+\n",
            "only showing top 20 rows\n",
            "\n"
          ]
        }
      ],
      "source": [
        "finalDFSorted = finalDF.sort('ID')\n",
        "finalDFSorted.show()"
      ]
    },
    {
      "cell_type": "code",
      "execution_count": null,
      "id": "e218d5ae",
      "metadata": {
        "id": "e218d5ae"
      },
      "outputs": [],
      "source": [
        ""
      ]
    }
  ],
  "metadata": {
    "kernelspec": {
      "display_name": "Python 3 (ipykernel)",
      "language": "python",
      "name": "python3"
    },
    "language_info": {
      "codemirror_mode": {
        "name": "ipython",
        "version": 3
      },
      "file_extension": ".py",
      "mimetype": "text/x-python",
      "name": "python",
      "nbconvert_exporter": "python",
      "pygments_lexer": "ipython3",
      "version": "3.9.12"
    },
    "colab": {
      "name": "Streaming P.S._Student.ipynb",
      "provenance": [],
      "collapsed_sections": []
    }
  },
  "nbformat": 4,
  "nbformat_minor": 5
}